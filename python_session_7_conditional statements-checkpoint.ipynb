{
 "cells": [
  {
   "cell_type": "markdown",
   "id": "80a178bd-d1aa-42a3-8cd3-c5d85907452c",
   "metadata": {},
   "source": [
    "**Conditional statements**"
   ]
  },
  {
   "cell_type": "markdown",
   "id": "f0ade05e-3665-4e0e-978f-d3214840d942",
   "metadata": {},
   "source": [
    "- conditional statements means we want want to run the code lines based on the conditions\n",
    "\n",
    "- if rain comes I will not go to school otherwise I will go to movie\n",
    "\n",
    "- Rain is there will effect one process\n",
    "\n",
    "- Rain will not there will effect another process\n",
    "\n",
    "- if\n",
    "\n",
    "- elif\n",
    "\n",
    "- else"
   ]
  },
  {
   "cell_type": "markdown",
   "id": "aaefd43e-2f2b-46e6-b4a9-4150c05478c4",
   "metadata": {},
   "source": [
    "**if**"
   ]
  },
  {
   "cell_type": "code",
   "execution_count": null,
   "id": "4395156e-a722-4a10-b9af-b5602858f0e4",
   "metadata": {},
   "outputs": [],
   "source": [
    "# syntax\n",
    "\n",
    "if <condition>:\n",
    "    <codeline1>\n",
    "    <codeline2>"
   ]
  },
  {
   "cell_type": "markdown",
   "id": "93cffbd2-f06e-4c47-b734-232d59628add",
   "metadata": {},
   "source": [
    "- whenever any line start with **keyword(green)** at the end of the line we have **colon(:)**\n",
    "\n",
    "- whenever we have a **colon(:)** the next lines starts  with some **gap**\n",
    "\n",
    "- and this gap is called as **indentation**\n",
    "\n",
    "- how many lines we are maintaining gap(indentation) that all are under one area"
   ]
  },
  {
   "cell_type": "markdown",
   "id": "aca22017-1553-4f86-903a-1b28b470e557",
   "metadata": {},
   "source": [
    "- if is a conditional statement, it will check the condition is True or False\n",
    "\n",
    "- if that condition will True then only it will enter inside the if area\n",
    "\n",
    "- and execute those code lines\n",
    "\n",
    "- if that condition will False, then it will not enter inside the if area\n",
    "\n",
    "- and it will not execute those code lines"
   ]
  },
  {
   "cell_type": "code",
   "execution_count": 8,
   "id": "f5d70134-4908-436d-b6cd-0319ce7a00af",
   "metadata": {},
   "outputs": [
    {
     "data": {
      "text/plain": [
       "True"
      ]
     },
     "execution_count": 8,
     "metadata": {},
     "output_type": "execute_result"
    }
   ],
   "source": [
    "100>10\n"
   ]
  },
  {
   "cell_type": "code",
   "execution_count": 10,
   "id": "63a565f5-12a1-4310-a003-83ca933fb900",
   "metadata": {},
   "outputs": [
    {
     "name": "stdout",
     "output_type": "stream",
     "text": [
      "hello\n"
     ]
    }
   ],
   "source": [
    "if 100>10:\n",
    "    print(\"hello\")"
   ]
  },
  {
   "cell_type": "markdown",
   "id": "d739ae5c-d02d-47f2-a2cc-cda5100f6035",
   "metadata": {},
   "source": [
    "**mistake 1**\n",
    "\n",
    "- indentation"
   ]
  },
  {
   "cell_type": "code",
   "execution_count": 14,
   "id": "e11bb407-4790-4cf3-8e7b-0055e19a56b6",
   "metadata": {},
   "outputs": [
    {
     "ename": "SyntaxError",
     "evalue": "invalid syntax (1753234097.py, line 1)",
     "output_type": "error",
     "traceback": [
      "\u001b[1;36m  Cell \u001b[1;32mIn[14], line 1\u001b[1;36m\u001b[0m\n\u001b[1;33m    **mistake 1**\u001b[0m\n\u001b[1;37m    ^\u001b[0m\n\u001b[1;31mSyntaxError\u001b[0m\u001b[1;31m:\u001b[0m invalid syntax\n"
     ]
    }
   ],
   "source": [
    "if 100>10:\n",
    "print(\"hello\")"
   ]
  },
  {
   "cell_type": "code",
   "execution_count": 17,
   "id": "94d0af6c-30e9-4c3d-aade-570bd9680f7b",
   "metadata": {},
   "outputs": [
    {
     "name": "stdout",
     "output_type": "stream",
     "text": [
      "hello\n"
     ]
    }
   ],
   "source": [
    "if 100>10:\n",
    "    print(\"hello\")\n",
    "\n",
    "# Indentation requires 4 spaces"
   ]
  },
  {
   "cell_type": "markdown",
   "id": "850ef228-49d0-43de-b13a-363e3d2c178d",
   "metadata": {},
   "source": [
    "**mistake 2**\n",
    "\n",
    "- colon(:) missing"
   ]
  },
  {
   "cell_type": "code",
   "execution_count": 20,
   "id": "4d7ebd11-46e0-4d3a-9ba2-3d5a572e8475",
   "metadata": {},
   "outputs": [
    {
     "ename": "SyntaxError",
     "evalue": "expected ':' (4173596931.py, line 1)",
     "output_type": "error",
     "traceback": [
      "\u001b[1;36m  Cell \u001b[1;32mIn[20], line 1\u001b[1;36m\u001b[0m\n\u001b[1;33m    if 100>10\u001b[0m\n\u001b[1;37m             ^\u001b[0m\n\u001b[1;31mSyntaxError\u001b[0m\u001b[1;31m:\u001b[0m expected ':'\n"
     ]
    }
   ],
   "source": [
    "if 100>10\n",
    "    print(\"hello\")"
   ]
  },
  {
   "cell_type": "markdown",
   "id": "90ecd8b9-b8f1-4e6b-b010-a16af28d3a55",
   "metadata": {},
   "source": [
    "**mistake 3**\n",
    "\n",
    "- if will expect a condition"
   ]
  },
  {
   "cell_type": "code",
   "execution_count": 25,
   "id": "4e40392d-81df-4fe0-89c2-430fab69eab2",
   "metadata": {},
   "outputs": [
    {
     "ename": "SyntaxError",
     "evalue": "invalid syntax (1751380283.py, line 1)",
     "output_type": "error",
     "traceback": [
      "\u001b[1;36m  Cell \u001b[1;32mIn[25], line 1\u001b[1;36m\u001b[0m\n\u001b[1;33m    if:\u001b[0m\n\u001b[1;37m      ^\u001b[0m\n\u001b[1;31mSyntaxError\u001b[0m\u001b[1;31m:\u001b[0m invalid syntax\n"
     ]
    }
   ],
   "source": [
    "if:\n",
    "    print(\"hello\")"
   ]
  },
  {
   "cell_type": "markdown",
   "id": "c06bf064-0f84-4618-965f-99f9cbc156a1",
   "metadata": {},
   "source": [
    "**mistake 4**\n",
    "\n",
    "- missing brackets()"
   ]
  },
  {
   "cell_type": "code",
   "execution_count": 33,
   "id": "b08762ca-daa5-423c-b066-df5ab6dea368",
   "metadata": {},
   "outputs": [
    {
     "ename": "SyntaxError",
     "evalue": "Missing parentheses in call to 'print'. Did you mean print(...)? (3394095289.py, line 2)",
     "output_type": "error",
     "traceback": [
      "\u001b[1;36m  Cell \u001b[1;32mIn[33], line 2\u001b[1;36m\u001b[0m\n\u001b[1;33m    print \"hello\"\u001b[0m\n\u001b[1;37m    ^\u001b[0m\n\u001b[1;31mSyntaxError\u001b[0m\u001b[1;31m:\u001b[0m Missing parentheses in call to 'print'. Did you mean print(...)?\n"
     ]
    }
   ],
   "source": [
    "if 100>10:\n",
    "    print \"hello\""
   ]
  },
  {
   "cell_type": "markdown",
   "id": "e8c17390-40f0-435e-a9f4-09e37f130749",
   "metadata": {},
   "source": [
    "**mistake 5**\n",
    "\n",
    "- never assign a variable to a print statement\n",
    "\n",
    "- print we are using for to see the answer"
   ]
  },
  {
   "cell_type": "code",
   "execution_count": 36,
   "id": "ff6022d9-e547-492c-b4d8-86c0b0d06bfd",
   "metadata": {},
   "outputs": [
    {
     "name": "stdout",
     "output_type": "stream",
     "text": [
      "hello\n"
     ]
    }
   ],
   "source": [
    "if 100>10:\n",
    "    name=print(\"hello\")"
   ]
  },
  {
   "cell_type": "markdown",
   "id": "e161435d-d47c-4615-9c25-96ba4926f89f",
   "metadata": {},
   "source": [
    "**mistake 6**\n",
    "\n",
    "- all types of syntax errors\n",
    "\n",
    "- spelling mistake"
   ]
  },
  {
   "cell_type": "code",
   "execution_count": 42,
   "id": "fe577cbd-872c-4adf-8962-cf1224494a77",
   "metadata": {},
   "outputs": [
    {
     "name": "stdout",
     "output_type": "stream",
     "text": [
      "hello\n",
      "good morng\n"
     ]
    }
   ],
   "source": [
    "if 100>10:\n",
    "    print(\"hello\")\n",
    "    print('good morng')"
   ]
  },
  {
   "cell_type": "code",
   "execution_count": 44,
   "id": "e3ff232f-c5d2-4e0a-ac77-ac0a3e9dbc70",
   "metadata": {},
   "outputs": [
    {
     "name": "stdout",
     "output_type": "stream",
     "text": [
      "hello\n",
      "good morng\n",
      "okay\n",
      "byee\n"
     ]
    }
   ],
   "source": [
    "if 100>10:\n",
    "    print(\"hello\")\n",
    "    print('good morng')\n",
    "print(\"okay\")\n",
    "print(\"byee\")"
   ]
  },
  {
   "cell_type": "code",
   "execution_count": 48,
   "id": "31875e81-4c63-47e4-8fc0-c505a25c8fbc",
   "metadata": {},
   "outputs": [
    {
     "name": "stdout",
     "output_type": "stream",
     "text": [
      "10\n",
      "20\n",
      "hello\n",
      "good morng\n",
      "okay\n",
      "byee\n"
     ]
    }
   ],
   "source": [
    "print(10)\n",
    "print(20)\n",
    "################################################\n",
    "if 100>10:\n",
    "    print(\"hello\")\n",
    "    print('good morng')\n",
    "###############################################\n",
    "print(\"okay\")\n",
    "print(\"byee\")"
   ]
  },
  {
   "cell_type": "code",
   "execution_count": 50,
   "id": "6afa7ccf-2df3-447a-b4b9-68903c428818",
   "metadata": {},
   "outputs": [
    {
     "name": "stdout",
     "output_type": "stream",
     "text": [
      "10\n",
      "20\n",
      "hello\n",
      "good morng\n",
      "okay\n",
      "byee\n"
     ]
    }
   ],
   "source": [
    "print(10)\n",
    "print(20)\n",
    "if 100>10:\n",
    "    print(\"hello\")\n",
    "    print('good morng')\n",
    "print(\"okay\")\n",
    "print(\"byee\")"
   ]
  },
  {
   "cell_type": "code",
   "execution_count": 52,
   "id": "c56fac1f-11e4-46ed-b4bb-8e4638d1d501",
   "metadata": {},
   "outputs": [
    {
     "name": "stdout",
     "output_type": "stream",
     "text": [
      "10\n",
      "20\n",
      "hello\n",
      "good morng\n",
      "okay\n",
      "byee\n"
     ]
    }
   ],
   "source": [
    "print(10)\n",
    "print(20)\n",
    "if True:\n",
    "    print(\"hello\")\n",
    "    print('good morng')\n",
    "print(\"okay\")\n",
    "print(\"byee\")"
   ]
  },
  {
   "cell_type": "code",
   "execution_count": 54,
   "id": "127c921c-c4fa-4e16-9ce5-2728a8b2cbb0",
   "metadata": {},
   "outputs": [
    {
     "name": "stdout",
     "output_type": "stream",
     "text": [
      "10\n",
      "20\n",
      "okay\n",
      "byee\n"
     ]
    }
   ],
   "source": [
    "print(10)\n",
    "print(20)\n",
    "if 100<10:\n",
    "    print(\"hello\")\n",
    "    print('good morng')\n",
    "print(\"okay\")\n",
    "print(\"byee\")"
   ]
  },
  {
   "cell_type": "code",
   "execution_count": 58,
   "id": "fd3c0e18-e5ea-4ed1-916d-06c917d8a78b",
   "metadata": {},
   "outputs": [
    {
     "name": "stdout",
     "output_type": "stream",
     "text": [
      "10\n",
      "20\n",
      "okay\n",
      "byee\n"
     ]
    }
   ],
   "source": [
    "print(10)\n",
    "print(20)\n",
    "if False:\n",
    "    print(\"hello\")\n",
    "    print('good morng')\n",
    "print(\"okay\")\n",
    "print(\"byee\")"
   ]
  },
  {
   "cell_type": "code",
   "execution_count": 60,
   "id": "399c46f1-8723-45a7-bfa7-943c98d3f7ce",
   "metadata": {},
   "outputs": [
    {
     "name": "stdout",
     "output_type": "stream",
     "text": [
      "10\n",
      "20\n",
      "hello\n",
      "good morng\n",
      "okay\n",
      "byee\n"
     ]
    }
   ],
   "source": [
    "print(10)\n",
    "print(20)\n",
    "if 100:\n",
    "    print(\"hello\")\n",
    "    print('good morng')\n",
    "print(\"okay\")\n",
    "print(\"byee\")"
   ]
  },
  {
   "cell_type": "code",
   "execution_count": 62,
   "id": "3fe667cd-3534-4519-9834-69c7a55a20b4",
   "metadata": {},
   "outputs": [
    {
     "name": "stdout",
     "output_type": "stream",
     "text": [
      "10\n",
      "20\n",
      "okay\n",
      "byee\n"
     ]
    }
   ],
   "source": [
    "print(10)\n",
    "print(20)\n",
    "if 0:\n",
    "    print(\"hello\")\n",
    "    print('good morng')\n",
    "print(\"okay\")\n",
    "print(\"byee\")"
   ]
  },
  {
   "cell_type": "code",
   "execution_count": 64,
   "id": "eefc2a60-2ad8-463f-9d75-b8d081de48a9",
   "metadata": {},
   "outputs": [
    {
     "name": "stdout",
     "output_type": "stream",
     "text": [
      "10\n",
      "20\n",
      "hello\n",
      "good morng\n",
      "okay\n",
      "byee\n"
     ]
    }
   ],
   "source": [
    "print(10)\n",
    "print(20)\n",
    "if 'hii':\n",
    "    print(\"hello\")\n",
    "    print('good morng')\n",
    "print(\"okay\")\n",
    "print(\"byee\")"
   ]
  },
  {
   "cell_type": "code",
   "execution_count": 66,
   "id": "ec285a3f-22c4-4892-8c4a-60a6efeafc68",
   "metadata": {},
   "outputs": [
    {
     "name": "stdout",
     "output_type": "stream",
     "text": [
      "10\n",
      "20\n",
      "hello\n",
      "good morng\n",
      "okay\n",
      "byee\n"
     ]
    }
   ],
   "source": [
    "print(10)\n",
    "print(20)\n",
    "if 100>10:\n",
    "    print(\"hello\")\n",
    "    print('good morng')\n",
    "print(\"okay\")\n",
    "print(\"byee\")"
   ]
  },
  {
   "cell_type": "code",
   "execution_count": 70,
   "id": "eff87a0e-f7c9-4c8c-b513-cd0dccc8d325",
   "metadata": {},
   "outputs": [
    {
     "name": "stdout",
     "output_type": "stream",
     "text": [
      "10\n",
      "20\n",
      "hello\n",
      "good morng\n",
      "okay\n",
      "byee\n"
     ]
    }
   ],
   "source": [
    "print(10)\n",
    "print(20)\n",
    "if '-':\n",
    "    print(\"hello\")\n",
    "    print('good morng')\n",
    "print(\"okay\")\n",
    "print(\"byee\")"
   ]
  },
  {
   "cell_type": "markdown",
   "id": "fbb54d40-9d93-44b6-89d3-c89e4f831d5d",
   "metadata": {},
   "source": [
    "**if-else**"
   ]
  },
  {
   "cell_type": "markdown",
   "id": "f80195be-e616-4875-b13d-4e5d92d6ef3e",
   "metadata": {},
   "source": [
    "- if required condition\n",
    "\n",
    "- if that condition is True, then it will execute if block\n",
    "\n",
    "- otherwise it can directly go to the else block\n",
    "\n",
    "- so else block does not required any condition"
   ]
  },
  {
   "cell_type": "markdown",
   "id": "65e3fa0b-5e6b-4afd-840e-fa992f78ef20",
   "metadata": {},
   "source": [
    "# syntax\n",
    "\n",
    "if <condition>:\n",
    "    <codeline>\n",
    "else:\n",
    "    <code line>"
   ]
  },
  {
   "cell_type": "code",
   "execution_count": 78,
   "id": "b4244aab-61ef-4acb-8651-c3d37a39c64e",
   "metadata": {},
   "outputs": [
    {
     "name": "stdout",
     "output_type": "stream",
     "text": [
      "true\n"
     ]
    }
   ],
   "source": [
    "if 100>10:\n",
    "    print(\"true\")\n",
    "else:\n",
    "    print(\"false\")"
   ]
  },
  {
   "cell_type": "code",
   "execution_count": 80,
   "id": "f63a571c-acb2-4934-a905-28101c91d543",
   "metadata": {},
   "outputs": [
    {
     "ename": "SyntaxError",
     "evalue": "invalid syntax (1987055201.py, line 5)",
     "output_type": "error",
     "traceback": [
      "\u001b[1;36m  Cell \u001b[1;32mIn[80], line 5\u001b[1;36m\u001b[0m\n\u001b[1;33m    else:\u001b[0m\n\u001b[1;37m    ^\u001b[0m\n\u001b[1;31mSyntaxError\u001b[0m\u001b[1;31m:\u001b[0m invalid syntax\n"
     ]
    }
   ],
   "source": [
    "print(\"10\")\n",
    "if 100>10:\n",
    "    print(\"true\")\n",
    "print(\"yes\")    \n",
    "else:\n",
    "    print(\"false\")"
   ]
  },
  {
   "cell_type": "code",
   "execution_count": 82,
   "id": "d8b4908b-3b68-4c57-b679-43c76d12d2d8",
   "metadata": {},
   "outputs": [
    {
     "name": "stdout",
     "output_type": "stream",
     "text": [
      "10\n",
      "0\n",
      "10\n"
     ]
    },
    {
     "ename": "ZeroDivisionError",
     "evalue": "division by zero",
     "output_type": "error",
     "traceback": [
      "\u001b[1;31m---------------------------------------------------------------------------\u001b[0m",
      "\u001b[1;31mZeroDivisionError\u001b[0m                         Traceback (most recent call last)",
      "Cell \u001b[1;32mIn[82], line 8\u001b[0m\n\u001b[0;32m      6\u001b[0m c\u001b[38;5;241m=\u001b[39ma\u001b[38;5;241m+\u001b[39mb\n\u001b[0;32m      7\u001b[0m \u001b[38;5;28mprint\u001b[39m(c)\n\u001b[1;32m----> 8\u001b[0m d\u001b[38;5;241m=\u001b[39ma\u001b[38;5;241m/\u001b[39mb\n\u001b[0;32m      9\u001b[0m e\u001b[38;5;241m=\u001b[39mb\u001b[38;5;241m/\u001b[39ma\n",
      "\u001b[1;31mZeroDivisionError\u001b[0m: division by zero"
     ]
    }
   ],
   "source": [
    "if True:\n",
    "    a=10\n",
    "    b=0\n",
    "    print(a)\n",
    "    print(b)\n",
    "    c=a+b\n",
    "    print(c)\n",
    "    d=a/b\n",
    "    e=b/a"
   ]
  },
  {
   "cell_type": "code",
   "execution_count": 86,
   "id": "81abf726-ee0c-476c-98aa-09b4fc54a38a",
   "metadata": {},
   "outputs": [
    {
     "data": {
      "text/plain": [
       "1"
      ]
     },
     "execution_count": 86,
     "metadata": {},
     "output_type": "execute_result"
    }
   ],
   "source": [
    "5%4 #reminder"
   ]
  },
  {
   "cell_type": "code",
   "execution_count": 90,
   "id": "cd2e592b-17f8-40a5-9fd2-44e22c94574d",
   "metadata": {},
   "outputs": [
    {
     "data": {
      "text/plain": [
       "1.25"
      ]
     },
     "execution_count": 90,
     "metadata": {},
     "output_type": "execute_result"
    }
   ],
   "source": [
    "5/4 #normal division"
   ]
  },
  {
   "cell_type": "code",
   "execution_count": 92,
   "id": "912f17cb-c83b-4ba7-9b89-28747c147694",
   "metadata": {},
   "outputs": [
    {
     "data": {
      "text/plain": [
       "1"
      ]
     },
     "execution_count": 92,
     "metadata": {},
     "output_type": "execute_result"
    }
   ],
   "source": [
    "5//4 #floor division"
   ]
  },
  {
   "cell_type": "code",
   "execution_count": 96,
   "id": "e09594f3-b02d-4ce6-8121-9a953d09958f",
   "metadata": {},
   "outputs": [
    {
     "name": "stdin",
     "output_type": "stream",
     "text": [
      "enter a number: 54\n"
     ]
    },
    {
     "name": "stdout",
     "output_type": "stream",
     "text": [
      "even number\n"
     ]
    }
   ],
   "source": [
    "# wap ask the user enter a number\n",
    "# find it is a even number or odd number\n",
    "# any number divide by 2, the reminder=0 it is called even number\n",
    "\n",
    "# step-1: num=eval(input())\n",
    "# step-2: if <condition>:\n",
    "# step-3: print()\n",
    "# step-4: else:\n",
    "# step-5: print()\n",
    "n=eval(input(\"enter a number:\"))\n",
    "if n%2==0:\n",
    "    print(\"even number\")\n",
    "else:\n",
    "    print(\"odd number\")\n"
   ]
  },
  {
   "cell_type": "code",
   "execution_count": 100,
   "id": "1df7b60f-071c-4e8f-aa16-e376cf16f0a5",
   "metadata": {},
   "outputs": [
    {
     "name": "stdin",
     "output_type": "stream",
     "text": [
      "enter the person age: 8\n"
     ]
    },
    {
     "name": "stdout",
     "output_type": "stream",
     "text": [
      "not eligible for voting\n"
     ]
    }
   ],
   "source": [
    "#write a program whether a person is eligible for voting or not\n",
    "age=eval(input(\"enter the person age:\"))\n",
    "if age>18:\n",
    "    print(\"eligible for voting\")\n",
    "else:\n",
    "    print(\"not eligible for voting\")"
   ]
  },
  {
   "cell_type": "code",
   "execution_count": 104,
   "id": "18098584-1645-4eae-952e-1c89e373fd92",
   "metadata": {},
   "outputs": [
    {
     "name": "stdin",
     "output_type": "stream",
     "text": [
      "enter a number 76\n"
     ]
    },
    {
     "name": "stdout",
     "output_type": "stream",
     "text": [
      "number is not divisible by 7\n"
     ]
    }
   ],
   "source": [
    "#write a program to check whether a number is divisible by 7 or not\n",
    "n=eval(input(\"enter a number\"))\n",
    "if n%7==0:\n",
    "    print(\"number is divisible by 7\")\n",
    "else:\n",
    "    print(\"number is not divisible by 7\")"
   ]
  },
  {
   "cell_type": "code",
   "execution_count": 108,
   "id": "4328191f-f2b8-445f-9808-794a8979ccd2",
   "metadata": {},
   "outputs": [
    {
     "name": "stdin",
     "output_type": "stream",
     "text": [
      "enter a number: 6\n"
     ]
    },
    {
     "name": "stdout",
     "output_type": "stream",
     "text": [
      "number is not multiple of five\n"
     ]
    }
   ],
   "source": [
    "#write a program to display \"hello\" if a number entered by user by a user is multipe of five otherwise print \"byee\"\n",
    "n=eval(input(\"enter a number:\"))\n",
    "if n%5==0:\n",
    "    print(\"number is multiple of five\")\n",
    "else:\n",
    "    print(\"number is not multiple of five\")\n"
   ]
  },
  {
   "cell_type": "code",
   "execution_count": 114,
   "id": "6fec6cda-d7a6-4022-a8c8-e1bde815585c",
   "metadata": {},
   "outputs": [
    {
     "name": "stdin",
     "output_type": "stream",
     "text": [
      "enter the units 545\n"
     ]
    },
    {
     "name": "stdout",
     "output_type": "stream",
     "text": [
      "5450\n"
     ]
    }
   ],
   "source": [
    "#write a progran to calculate electricity bill\n",
    "bill=eval(input(\"enter the units\"))\n",
    "if bill<100:\n",
    "    amount=0\n",
    "if bill>100 and bill<=200:\n",
    "    amount=bill*5\n",
    "if bill>200:\n",
    "    amount=bill*10\n",
    "print(amount)\n",
    "    \n"
   ]
  },
  {
   "cell_type": "code",
   "execution_count": 1,
   "id": "c6c1ddd4-e5e8-4ac0-9808-723127257eff",
   "metadata": {},
   "outputs": [
    {
     "name": "stdout",
     "output_type": "stream",
     "text": [
      "number is not multiple of five\n"
     ]
    }
   ],
   "source": [
    "#implement the above problem by taking random input between 1,100\n",
    "import random\n",
    "bill=random.randint(1,100)\n",
    "if bill%5==0:\n",
    "    print(\"number is multiple of five\")\n",
    "else:\n",
    "    print(\"number is not multiple of five\")"
   ]
  },
  {
   "cell_type": "code",
   "execution_count": 3,
   "id": "65b9c238-d098-495d-96a2-a9de183d363b",
   "metadata": {},
   "outputs": [
    {
     "name": "stdin",
     "output_type": "stream",
     "text": [
      "enter the start value: 45\n",
      "enter the end value: 89\n"
     ]
    },
    {
     "name": "stdout",
     "output_type": "stream",
     "text": [
      "number is multiple of five\n"
     ]
    }
   ],
   "source": [
    "import random\n",
    "start=eval(input(\"enter the start value:\"))\n",
    "end=eval(input(\"enter the end value:\"))\n",
    "n=random.randint(start,end)\n",
    "if n%5==0:\n",
    "    print(\"number is multiple of five\")\n",
    "else:\n",
    "    print(\"number is not multiple of five\")"
   ]
  },
  {
   "cell_type": "markdown",
   "id": "ed7a1f36-12a4-4967-a65d-c748cdb5845d",
   "metadata": {},
   "source": [
    "- we are providing values means itis hard coded\n",
    "\n",
    "- code should be always generic,without hard coding"
   ]
  },
  {
   "cell_type": "code",
   "execution_count": 14,
   "id": "e854509c-6196-4db5-b761-96c6b93dae5d",
   "metadata": {},
   "outputs": [
    {
     "name": "stdin",
     "output_type": "stream",
     "text": [
      "enter the distance 100\n"
     ]
    },
    {
     "name": "stdout",
     "output_type": "stream",
     "text": [
      "good news your charge is applicable for only remaining of 25\n",
      "total charge:300\n"
     ]
    }
   ],
   "source": [
    "#wap ask the user enter the distance\n",
    "#cutoff distance enter 25\n",
    "#if distance greater than 25km\n",
    "#print(\"good news your charge is applicable for only remaining of 25\")\n",
    "#chargable distance =distance-cutoff\n",
    "#then enter the charge\n",
    "#print the total cost\n",
    "#otherwise\n",
    "#print free ride\n",
    "distance=eval(input(\"enter the distance\"))\n",
    "if distance>25:\n",
    "    print(\"good news your charge is applicable for only remaining of 25\")\n",
    "    cutoff_distance=distance-25\n",
    "    print(f\"total charge:{cutoff_distance*4}\")\n",
    "else:\n",
    "    print(\"free ride\")\n"
   ]
  },
  {
   "cell_type": "code",
   "execution_count": null,
   "id": "b4bd25a6-c0bd-42a6-8e83-a6ce9037fc07",
   "metadata": {},
   "outputs": [],
   "source": [
    "distance=eval(input(\"enter the distanc\""
   ]
  },
  {
   "cell_type": "code",
   "execution_count": 32,
   "id": "8ff2e457-6761-4d30-a1e0-df68de9352f4",
   "metadata": {},
   "outputs": [
    {
     "name": "stdin",
     "output_type": "stream",
     "text": [
      "enter the course: data science\n",
      "enter the institute: naresh it\n"
     ]
    },
    {
     "name": "stdout",
     "output_type": "stream",
     "text": [
      "you are good\n"
     ]
    }
   ],
   "source": [
    "#wap ask the user enter the course\n",
    "#ask the user enter the institute\n",
    "#if the course equal to data science and institute equal to naresh it\n",
    "#then you are good\n",
    "#otherwise bad\n",
    "course=input(\"enter the course:\")\n",
    "institute=input(\"enter the institute:\")\n",
    "if course=='data science' and institute=='naresh it':\n",
    "    print(\"you are good\")\n",
    "else:\n",
    "    print(\"you are bad\")\n",
    "    "
   ]
  },
  {
   "cell_type": "markdown",
   "id": "675091b0-8141-4791-b804-7d53dc9cac19",
   "metadata": {},
   "source": [
    "- and means two conditions need to satisfy\n",
    "\n",
    "- or means any one condition enough to satisfy"
   ]
  },
  {
   "cell_type": "code",
   "execution_count": 43,
   "id": "35460fce-7280-4122-a8cc-6a4055e8c46f",
   "metadata": {},
   "outputs": [
    {
     "name": "stdin",
     "output_type": "stream",
     "text": [
      "enter the number 8\n"
     ]
    },
    {
     "name": "stdout",
     "output_type": "stream",
     "text": [
      "you lost\n"
     ]
    }
   ],
   "source": [
    "#wap aks the user enter a random number between 1 to 10, treat this as number1\n",
    "# ask the user enter another number from keyboard, treat this as number2\n",
    "#if number1 equal to number2\n",
    "#you won\n",
    "#otherwise\n",
    "# print you lost \n",
    "import random\n",
    "n1=random.randint(1,10)\n",
    "n2=eval(input(\"enter the number\"))\n",
    "if n1==n2:\n",
    "    print(\"you won\")\n",
    "else:\n",
    "    print(\"you lost\")\n",
    "    \n"
   ]
  },
  {
   "cell_type": "markdown",
   "id": "94342d08-d6b5-4884-87c0-647eddb73e5c",
   "metadata": {},
   "source": [
    "- Till now we have seen one condition problem\n",
    "\n",
    "- which means if that condition is True will get one answer\n",
    "\n",
    "- if that condition False then will get another answer\n",
    "\n",
    "- How about if we have more than 2 conditions\n",
    "\n",
    "- if-elif-else\n",
    "\n",
    "- two conditions means 3 results\n",
    "\n",
    "- if has one condition\n",
    "\n",
    "- elif has second condition\n",
    "\n",
    "- if both are false then result is else\n"
   ]
  },
  {
   "cell_type": "code",
   "execution_count": null,
   "id": "d607e430-a2e9-431c-857c-e799f8af7756",
   "metadata": {},
   "outputs": [],
   "source": [
    "if <condition>:\n",
    "    <statements>\n",
    "elif <condition>:\n",
    "    <statements>\n",
    "else:\n",
    "    <statements>"
   ]
  },
  {
   "cell_type": "code",
   "execution_count": 53,
   "id": "d1447f93-0acc-4508-9aeb-9b1823aa74ed",
   "metadata": {},
   "outputs": [
    {
     "name": "stdin",
     "output_type": "stream",
     "text": [
      "enter the number 3\n"
     ]
    },
    {
     "name": "stdout",
     "output_type": "stream",
     "text": [
      "three\n"
     ]
    }
   ],
   "source": [
    "#wap ask the user enter num\n",
    "# if num equal to 1 then print one\n",
    "# if num equal to 2 then print two\n",
    "# if num equal to 3 then print three\n",
    "#otherwise print enter a valid number\n",
    "num=eval(input(\"enter the number\"))\n",
    "if num==1:print(\"one\")\n",
    "elif num==2:print(\"two\")\n",
    "elif num==3:print(\"three\")\n",
    "else:\n",
    "    print(\"enter a valid number\")"
   ]
  },
  {
   "cell_type": "code",
   "execution_count": 61,
   "id": "b53239d3-df7b-4a12-b3d0-92187c6187b6",
   "metadata": {},
   "outputs": [
    {
     "name": "stdin",
     "output_type": "stream",
     "text": [
      "enter a number 98\n"
     ]
    },
    {
     "name": "stdout",
     "output_type": "stream",
     "text": [
      "positive\n"
     ]
    }
   ],
   "source": [
    "#wap ask the user enter a number\n",
    "# if that number greater than zero print positive\n",
    "# if that number less than zero print negative\n",
    "# otherwise print zero\n",
    "num=eval(input(\"enter a number\"))\n",
    "if num>0:\n",
    "    print(\"positive\")\n",
    "elif num<0:\n",
    "    print(\"negative\")\n",
    "else:\n",
    "    print(\"zero\")"
   ]
  },
  {
   "cell_type": "code",
   "execution_count": 67,
   "id": "bbbc0092-93e9-4cd6-b784-c78fab884260",
   "metadata": {},
   "outputs": [
    {
     "name": "stdin",
     "output_type": "stream",
     "text": [
      "enter the percentage: 100\n"
     ]
    },
    {
     "name": "stdout",
     "output_type": "stream",
     "text": [
      "A grade\n"
     ]
    }
   ],
   "source": [
    "#wap ask the user enter percentage of marks\n",
    "# if percentage greater than 90\n",
    "#print A grade\n",
    "#if percentage between 75 to 90 print B\n",
    "# if percentage between 50 to 75 print c grade\n",
    "# if percentage between 35 to 50 print D grade\n",
    "# if percentage less than 35 print fail\n",
    "percentage=eval(input(\"enter the percentage:\"))\n",
    "if percentage>=90:\n",
    "    print(\"A grade\")\n",
    "elif percentage>=75:\n",
    "    print(\"B grade\")\n",
    "elif percentage>=50:\n",
    "    print(\"C grade\")\n",
    "elif percentage>=35:\n",
    "    print(\"D grade\")\n",
    "else:\n",
    "    print(\"fail\")\n",
    "    \n",
    "    \n",
    "    "
   ]
  },
  {
   "cell_type": "code",
   "execution_count": 75,
   "id": "48386372-a91e-4535-8e86-b1fbbe00b3aa",
   "metadata": {},
   "outputs": [
    {
     "name": "stdin",
     "output_type": "stream",
     "text": [
      "enter the age 56\n"
     ]
    },
    {
     "name": "stdout",
     "output_type": "stream",
     "text": [
      "senior citizen\n"
     ]
    }
   ],
   "source": [
    "#wap ask the user enter the age\n",
    "# if the age greater than 75 print old age\n",
    "# if the age greater than 50 to 75print senior citizen\n",
    "# if the age between 35 to 50 print middle age\n",
    "# if the age between 15 to 30 print young age\n",
    "#else kid\n",
    "age=eval(input(\"enter the age\"))\n",
    "if age>=75:\n",
    "    print(\"old age\")\n",
    "elif age>=50:\n",
    "    print(\"senior citizen\")\n",
    "elif age>=35:\n",
    "    print(\"middle age\")\n",
    "elif age>=15:\n",
    "    print(\"young age\")\n",
    "else:\n",
    "    print(\"kid\")"
   ]
  },
  {
   "cell_type": "code",
   "execution_count": null,
   "id": "5e48801b-90f3-43e7-930f-34a4d518226b",
   "metadata": {},
   "outputs": [],
   "source": []
  }
 ],
 "metadata": {
  "kernelspec": {
   "display_name": "Python 3 (ipykernel)",
   "language": "python",
   "name": "python3"
  },
  "language_info": {
   "codemirror_mode": {
    "name": "ipython",
    "version": 3
   },
   "file_extension": ".py",
   "mimetype": "text/x-python",
   "name": "python",
   "nbconvert_exporter": "python",
   "pygments_lexer": "ipython3",
   "version": "3.11.7"
  }
 },
 "nbformat": 4,
 "nbformat_minor": 5
}
