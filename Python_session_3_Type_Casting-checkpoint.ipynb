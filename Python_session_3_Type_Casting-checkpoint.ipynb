{
 "cells": [
  {
   "cell_type": "markdown",
   "id": "de9fa881-91f2-48d4-93de-2937f439bc54",
   "metadata": {},
   "source": [
    "**Type casting**\n",
    "\n",
    "  - convert one data type to another datat type is called as type casting\n",
    "\n",
    "  - which means we wants to convert\n",
    "\n",
    "  - integer type to all other(float,str,bool) data types\n",
    "\n",
    "  - float type to all other(int,str,bool) data types\n",
    "\n",
    "  - str type to all other(int,float,bool) data types\n",
    "\n",
    "  - bool type to all other(int,float,str) data types"
   ]
  },
  {
   "cell_type": "markdown",
   "id": "23c4c1e5-9e14-4504-aa51-92008d00b83f",
   "metadata": {},
   "source": [
    "**Integer to other data types**"
   ]
  },
  {
   "cell_type": "markdown",
   "id": "68f05be5-205a-4fa9-ae52-966150084362",
   "metadata": {},
   "source": [
    "$int-float$"
   ]
  },
  {
   "cell_type": "code",
   "execution_count": 4,
   "id": "0272503c-c548-47e1-b9f2-574f302b3674",
   "metadata": {},
   "outputs": [
    {
     "data": {
      "text/plain": [
       "int"
      ]
     },
     "execution_count": 4,
     "metadata": {},
     "output_type": "execute_result"
    }
   ],
   "source": [
    "num=100\n",
    "type(num)"
   ]
  },
  {
   "cell_type": "code",
   "execution_count": 6,
   "id": "25fe4b4d-94ef-4499-ac6a-e15bc8357002",
   "metadata": {},
   "outputs": [
    {
     "data": {
      "text/plain": [
       "float"
      ]
     },
     "execution_count": 6,
     "metadata": {},
     "output_type": "execute_result"
    }
   ],
   "source": [
    "float_num=float(num)\n",
    "type(float_num)"
   ]
  },
  {
   "cell_type": "code",
   "execution_count": 8,
   "id": "1ba2b2de-8ca4-4987-91bd-e2d6af3709c9",
   "metadata": {},
   "outputs": [
    {
     "data": {
      "text/plain": [
       "'100'"
      ]
     },
     "execution_count": 8,
     "metadata": {},
     "output_type": "execute_result"
    }
   ],
   "source": [
    "str_num=str(num)\n",
    "str_num"
   ]
  },
  {
   "cell_type": "code",
   "execution_count": 10,
   "id": "d27f28ec-2b14-488c-8792-84783f94d742",
   "metadata": {},
   "outputs": [
    {
     "data": {
      "text/plain": [
       "str"
      ]
     },
     "execution_count": 10,
     "metadata": {},
     "output_type": "execute_result"
    }
   ],
   "source": [
    "type(str_num)"
   ]
  },
  {
   "cell_type": "code",
   "execution_count": 12,
   "id": "a223499f-a312-4a1d-9bfe-ff515a80f60f",
   "metadata": {},
   "outputs": [
    {
     "data": {
      "text/plain": [
       "True"
      ]
     },
     "execution_count": 12,
     "metadata": {},
     "output_type": "execute_result"
    }
   ],
   "source": [
    "bool(num)"
   ]
  },
  {
   "cell_type": "code",
   "execution_count": 14,
   "id": "f6881988-5426-4ce8-a519-04787057db75",
   "metadata": {},
   "outputs": [
    {
     "data": {
      "text/plain": [
       "(200.0, '200', True)"
      ]
     },
     "execution_count": 14,
     "metadata": {},
     "output_type": "execute_result"
    }
   ],
   "source": [
    "float(200),str(200),bool(200)\n"
   ]
  },
  {
   "cell_type": "code",
   "execution_count": 16,
   "id": "fc57da69-18d5-40aa-b9c3-a5c3982953c9",
   "metadata": {},
   "outputs": [
    {
     "data": {
      "text/plain": [
       "(-200.0, '-200', True)"
      ]
     },
     "execution_count": 16,
     "metadata": {},
     "output_type": "execute_result"
    }
   ],
   "source": [
    "float(-200),str(-200),bool(-200)"
   ]
  },
  {
   "cell_type": "code",
   "execution_count": 18,
   "id": "bd61354b-a422-44a5-91be-53745add9c49",
   "metadata": {},
   "outputs": [
    {
     "data": {
      "text/plain": [
       "False"
      ]
     },
     "execution_count": 18,
     "metadata": {},
     "output_type": "execute_result"
    }
   ],
   "source": [
    "# when integer of boolean conversion become false\n",
    "bool(0)"
   ]
  },
  {
   "cell_type": "markdown",
   "id": "ae7265be-90f5-4130-8552-98307d09680b",
   "metadata": {},
   "source": [
    "**Note**"
   ]
  },
  {
   "cell_type": "markdown",
   "id": "1a8f4fb1-e91b-4817-80f2-680356a134fa",
   "metadata": {},
   "source": [
    "- Integer=0 then ony boolean conversion becomes False\n",
    "\n",
    "- Otherwise for any positive number or any negative number it becomes True"
   ]
  },
  {
   "cell_type": "code",
   "execution_count": 25,
   "id": "55ec0f8b-889c-475b-9553-8553297736d8",
   "metadata": {},
   "outputs": [
    {
     "data": {
      "text/plain": [
       "(200, '200.5', True)"
      ]
     },
     "execution_count": 25,
     "metadata": {},
     "output_type": "execute_result"
    }
   ],
   "source": [
    "int(200.5),str(200.5),bool(200.5)"
   ]
  },
  {
   "cell_type": "code",
   "execution_count": 27,
   "id": "12841a63-4337-485e-b69c-6e07e70e988c",
   "metadata": {},
   "outputs": [
    {
     "data": {
      "text/plain": [
       "(200, '200.5', False)"
      ]
     },
     "execution_count": 27,
     "metadata": {},
     "output_type": "execute_result"
    }
   ],
   "source": [
    "int(200.5),str(200.5),bool(0.0)"
   ]
  },
  {
   "cell_type": "markdown",
   "id": "1ba58663-7772-448b-84e8-2f66ee9a60ed",
   "metadata": {},
   "source": [
    "**String to another data types**"
   ]
  },
  {
   "cell_type": "code",
   "execution_count": 71,
   "id": "ac45d243-b12c-4635-a2a6-835d570bf55f",
   "metadata": {},
   "outputs": [],
   "source": [
    "# case 1\n",
    "str= 'apple'\n",
    "# case 2\n",
    "str1= '10'\n",
    "# case 3\n",
    "str2='10.5'"
   ]
  },
  {
   "cell_type": "code",
   "execution_count": 30,
   "id": "e9ad7b99-fe3a-4784-8a49-9411aecfb1cc",
   "metadata": {},
   "outputs": [
    {
     "ename": "ValueError",
     "evalue": "invalid literal for int() with base 10: 'apple'",
     "output_type": "error",
     "traceback": [
      "\u001b[1;31m---------------------------------------------------------------------------\u001b[0m",
      "\u001b[1;31mValueError\u001b[0m                                Traceback (most recent call last)",
      "Cell \u001b[1;32mIn[30], line 1\u001b[0m\n\u001b[1;32m----> 1\u001b[0m \u001b[38;5;28mint\u001b[39m(\u001b[38;5;124m'\u001b[39m\u001b[38;5;124mapple\u001b[39m\u001b[38;5;124m'\u001b[39m)\n",
      "\u001b[1;31mValueError\u001b[0m: invalid literal for int() with base 10: 'apple'"
     ]
    }
   ],
   "source": [
    "int('apple')"
   ]
  },
  {
   "cell_type": "code",
   "execution_count": 32,
   "id": "120c416e-66fc-4d3d-ba52-eb279c6035ed",
   "metadata": {},
   "outputs": [
    {
     "ename": "ValueError",
     "evalue": "could not convert string to float: 'apple'",
     "output_type": "error",
     "traceback": [
      "\u001b[1;31m---------------------------------------------------------------------------\u001b[0m",
      "\u001b[1;31mValueError\u001b[0m                                Traceback (most recent call last)",
      "Cell \u001b[1;32mIn[32], line 1\u001b[0m\n\u001b[1;32m----> 1\u001b[0m \u001b[38;5;28mfloat\u001b[39m(\u001b[38;5;124m'\u001b[39m\u001b[38;5;124mapple\u001b[39m\u001b[38;5;124m'\u001b[39m)\n",
      "\u001b[1;31mValueError\u001b[0m: could not convert string to float: 'apple'"
     ]
    }
   ],
   "source": [
    "float('apple')"
   ]
  },
  {
   "cell_type": "code",
   "execution_count": 34,
   "id": "566c5e36-bfd9-4f7e-9355-3bbe1ea434c0",
   "metadata": {},
   "outputs": [
    {
     "data": {
      "text/plain": [
       "True"
      ]
     },
     "execution_count": 34,
     "metadata": {},
     "output_type": "execute_result"
    }
   ],
   "source": [
    "bool('apple')"
   ]
  },
  {
   "cell_type": "code",
   "execution_count": 36,
   "id": "00f10d50-cdac-49f8-a86c-8c6dbe0ebc25",
   "metadata": {},
   "outputs": [
    {
     "data": {
      "text/plain": [
       "10"
      ]
     },
     "execution_count": 36,
     "metadata": {},
     "output_type": "execute_result"
    }
   ],
   "source": [
    "int('10')"
   ]
  },
  {
   "cell_type": "code",
   "execution_count": 38,
   "id": "c1ea3242-49e5-4b0a-8fa6-ec18b103520d",
   "metadata": {},
   "outputs": [
    {
     "data": {
      "text/plain": [
       "10.0"
      ]
     },
     "execution_count": 38,
     "metadata": {},
     "output_type": "execute_result"
    }
   ],
   "source": [
    "float('10')"
   ]
  },
  {
   "cell_type": "code",
   "execution_count": 40,
   "id": "675be1d8-b05a-4d71-a573-a84931278545",
   "metadata": {},
   "outputs": [
    {
     "data": {
      "text/plain": [
       "True"
      ]
     },
     "execution_count": 40,
     "metadata": {},
     "output_type": "execute_result"
    }
   ],
   "source": [
    "bool('10')"
   ]
  },
  {
   "cell_type": "code",
   "execution_count": 42,
   "id": "98bc9ce4-7f70-407d-b77f-247fbb9389c6",
   "metadata": {},
   "outputs": [
    {
     "ename": "ValueError",
     "evalue": "invalid literal for int() with base 10: '10.5'",
     "output_type": "error",
     "traceback": [
      "\u001b[1;31m---------------------------------------------------------------------------\u001b[0m",
      "\u001b[1;31mValueError\u001b[0m                                Traceback (most recent call last)",
      "Cell \u001b[1;32mIn[42], line 1\u001b[0m\n\u001b[1;32m----> 1\u001b[0m \u001b[38;5;28mint\u001b[39m(\u001b[38;5;124m'\u001b[39m\u001b[38;5;124m10.5\u001b[39m\u001b[38;5;124m'\u001b[39m)\n",
      "\u001b[1;31mValueError\u001b[0m: invalid literal for int() with base 10: '10.5'"
     ]
    }
   ],
   "source": [
    "int('10.5')"
   ]
  },
  {
   "cell_type": "markdown",
   "id": "18d1cfff-0061-4d60-beb0-62e15a181018",
   "metadata": {},
   "source": [
    "- float is the boss\n",
    "\n",
    "- float of any value either it is integer in strings format\n",
    "\n",
    "- or float in strings format will works\n",
    "\n",
    "- But integer will works only for integer in strings format\n",
    "\n",
    "- Integer type casting will fail for float in strings format"
   ]
  },
  {
   "cell_type": "code",
   "execution_count": 45,
   "id": "5452dbeb-4d68-4444-8b6c-ca4a3e26f364",
   "metadata": {},
   "outputs": [
    {
     "data": {
      "text/plain": [
       "True"
      ]
     },
     "execution_count": 45,
     "metadata": {},
     "output_type": "execute_result"
    }
   ],
   "source": [
    "bool('0')"
   ]
  },
  {
   "cell_type": "markdown",
   "id": "ffa1d73a-82d7-47b0-804f-d987a1987552",
   "metadata": {},
   "source": [
    "- Empty string of boolean give false\n",
    "\n",
    "- False means nothing either 0 or empty string"
   ]
  },
  {
   "cell_type": "markdown",
   "id": "ad3c0ed2-94a7-4871-95a6-c0f0d3f0df1f",
   "metadata": {},
   "source": [
    "**boolean to other data types**"
   ]
  },
  {
   "cell_type": "code",
   "execution_count": 51,
   "id": "5accce4b-336b-438b-a5dc-7a4779d09d55",
   "metadata": {},
   "outputs": [
    {
     "data": {
      "text/plain": [
       "True"
      ]
     },
     "execution_count": 51,
     "metadata": {},
     "output_type": "execute_result"
    }
   ],
   "source": [
    "bool(10)"
   ]
  },
  {
   "cell_type": "code",
   "execution_count": 59,
   "id": "2edaacf2-2f71-4d32-8bdd-fab1282238c2",
   "metadata": {},
   "outputs": [
    {
     "data": {
      "text/plain": [
       "1"
      ]
     },
     "execution_count": 59,
     "metadata": {},
     "output_type": "execute_result"
    }
   ],
   "source": [
    "int(True)"
   ]
  },
  {
   "cell_type": "code",
   "execution_count": 63,
   "id": "8b7465e8-fb28-437d-86ff-8317d0e1e8a2",
   "metadata": {},
   "outputs": [
    {
     "data": {
      "text/plain": [
       "'True'"
      ]
     },
     "execution_count": 63,
     "metadata": {},
     "output_type": "execute_result"
    }
   ],
   "source": [
    "str(True)"
   ]
  },
  {
   "cell_type": "code",
   "execution_count": 61,
   "id": "9e3e361e-ec5d-4d20-9fc9-702cca79e660",
   "metadata": {},
   "outputs": [
    {
     "data": {
      "text/plain": [
       "True"
      ]
     },
     "execution_count": 61,
     "metadata": {},
     "output_type": "execute_result"
    }
   ],
   "source": [
    "bool(True)"
   ]
  },
  {
   "cell_type": "code",
   "execution_count": 65,
   "id": "94d72b85-38cc-4edb-8bbf-b3d4debcd7ad",
   "metadata": {},
   "outputs": [
    {
     "data": {
      "text/plain": [
       "0"
      ]
     },
     "execution_count": 65,
     "metadata": {},
     "output_type": "execute_result"
    }
   ],
   "source": [
    "int(False)"
   ]
  },
  {
   "cell_type": "code",
   "execution_count": 67,
   "id": "3d3d52e6-5805-4b4c-a6d0-4afa1deaf0c5",
   "metadata": {},
   "outputs": [
    {
     "data": {
      "text/plain": [
       "0.0"
      ]
     },
     "execution_count": 67,
     "metadata": {},
     "output_type": "execute_result"
    }
   ],
   "source": [
    "float(False)"
   ]
  },
  {
   "cell_type": "code",
   "execution_count": 69,
   "id": "78fe2dc6-318e-4f57-b9f4-e3523ed3ab93",
   "metadata": {},
   "outputs": [
    {
     "data": {
      "text/plain": [
       "'False'"
      ]
     },
     "execution_count": 69,
     "metadata": {},
     "output_type": "execute_result"
    }
   ],
   "source": [
    "str(False)"
   ]
  },
  {
   "cell_type": "code",
   "execution_count": 77,
   "id": "8a45e98d-3bc7-4b29-a983-92d20ea27f81",
   "metadata": {},
   "outputs": [
    {
     "ename": "TypeError",
     "evalue": "'str' object is not callable",
     "output_type": "error",
     "traceback": [
      "\u001b[1;31m---------------------------------------------------------------------------\u001b[0m",
      "\u001b[1;31mTypeError\u001b[0m                                 Traceback (most recent call last)",
      "Cell \u001b[1;32mIn[77], line 3\u001b[0m\n\u001b[0;32m      1\u001b[0m \u001b[38;5;66;03m#Integer to other\u001b[39;00m\n\u001b[0;32m      2\u001b[0m \u001b[38;5;28mfloat\u001b[39m(\u001b[38;5;241m100\u001b[39m)\n\u001b[1;32m----> 3\u001b[0m \u001b[38;5;28mstr\u001b[39m(\u001b[38;5;241m100\u001b[39m)\n\u001b[0;32m      4\u001b[0m \u001b[38;5;28mbool\u001b[39m(\u001b[38;5;241m100\u001b[39m)\n",
      "\u001b[1;31mTypeError\u001b[0m: 'str' object is not callable"
     ]
    }
   ],
   "source": [
    "#Integer to other\n",
    "float(100)\n",
    "str(100)\n",
    "bool(100)\n"
   ]
  },
  {
   "cell_type": "code",
   "execution_count": null,
   "id": "6ef47147-d962-437f-886b-fb2a3ac21136",
   "metadata": {},
   "outputs": [],
   "source": [
    "##Float to other##\n",
    "int(100.5)\n",
    "str(100.5)\n",
    "bool(100.5)"
   ]
  },
  {
   "cell_type": "code",
   "execution_count": null,
   "id": "776bb51a-60cd-4566-8528-4698aeca861b",
   "metadata": {},
   "outputs": [],
   "source": [
    "##str to other##\n",
    "int('apple')\n",
    "float('10')\n",
    "bool('200')\n"
   ]
  }
 ],
 "metadata": {
  "kernelspec": {
   "display_name": "Python 3 (ipykernel)",
   "language": "python",
   "name": "python3"
  },
  "language_info": {
   "codemirror_mode": {
    "name": "ipython",
    "version": 3
   },
   "file_extension": ".py",
   "mimetype": "text/x-python",
   "name": "python",
   "nbconvert_exporter": "python",
   "pygments_lexer": "ipython3",
   "version": "3.11.7"
  }
 },
 "nbformat": 4,
 "nbformat_minor": 5
}
