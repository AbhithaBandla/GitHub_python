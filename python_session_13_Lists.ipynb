{
 "cells": [
  {
   "cell_type": "markdown",
   "id": "3776d0b7-2ad9-4926-a024-5e11085669a5",
   "metadata": {},
   "source": [
    "- Representations\n",
    "\n",
    "- type\n",
    "\n",
    "- len\n",
    "\n",
    "- max\n",
    "\n",
    "- min\n",
    "\n",
    "- sorted\n",
    "\n",
    "- reversed\n",
    "\n",
    "- in\n",
    "\n",
    "- for loop using in\n",
    "\n",
    "- index\n",
    "\n",
    "- for loop in index\n",
    "\n",
    "- mutable\n",
    "\n",
    "- concatenation\n",
    "\n",
    "- slicing\n",
    "\n",
    "- methods\n"
   ]
  },
  {
   "cell_type": "markdown",
   "id": "59ac605a-c02a-481f-b27c-8a47eb50f71b",
   "metadata": {},
   "source": [
    "**Representations**"
   ]
  },
  {
   "cell_type": "markdown",
   "id": "1c30de76-9d6c-4043-891a-d09e61ff40f6",
   "metadata": {},
   "source": [
    "- strings represent with quotes\n",
    "\n",
    "- list represent with square brackets[]"
   ]
  },
  {
   "cell_type": "code",
   "execution_count": 5,
   "id": "b89bb13f-2c35-48d1-8ebc-904f81fe2697",
   "metadata": {},
   "outputs": [
    {
     "data": {
      "text/plain": [
       "[1, 2, 3, 4]"
      ]
     },
     "execution_count": 5,
     "metadata": {},
     "output_type": "execute_result"
    }
   ],
   "source": [
    "l1=[1,2,3,4]\n",
    "l1"
   ]
  },
  {
   "cell_type": "code",
   "execution_count": 7,
   "id": "50a72ee9-2d42-4db4-9c11-afede8f46466",
   "metadata": {},
   "outputs": [
    {
     "data": {
      "text/plain": [
       "list"
      ]
     },
     "execution_count": 7,
     "metadata": {},
     "output_type": "execute_result"
    }
   ],
   "source": [
    "type(l1)"
   ]
  },
  {
   "cell_type": "code",
   "execution_count": 9,
   "id": "b2e02e95-5fc9-4d44-83bc-457af3437c0c",
   "metadata": {},
   "outputs": [
    {
     "data": {
      "text/plain": [
       "['A', 'B', 'C', 'D']"
      ]
     },
     "execution_count": 9,
     "metadata": {},
     "output_type": "execute_result"
    }
   ],
   "source": [
    "l2=['A', 'B', 'C', 'D']\n",
    "l2"
   ]
  },
  {
   "cell_type": "code",
   "execution_count": 11,
   "id": "f9999272-939e-43b8-8a52-c5a1806ce7fd",
   "metadata": {},
   "outputs": [
    {
     "data": {
      "text/plain": [
       "[1, 2, 3, 4, 'A', 'B', 'C', 'D']"
      ]
     },
     "execution_count": 11,
     "metadata": {},
     "output_type": "execute_result"
    }
   ],
   "source": [
    "l3=[1,2,3,4,'A', 'B', 'C', 'D']\n",
    "l3"
   ]
  },
  {
   "cell_type": "code",
   "execution_count": 13,
   "id": "90a7733c-0b8b-4efe-beb1-065db8edd4f8",
   "metadata": {},
   "outputs": [
    {
     "data": {
      "text/plain": [
       "[1, 2, 3, 'Aapple', 'Ball', 'Cat', True, False]"
      ]
     },
     "execution_count": 13,
     "metadata": {},
     "output_type": "execute_result"
    }
   ],
   "source": [
    "l4=[1,2,3,'Aapple','Ball','Cat',True,False]\n",
    "l4"
   ]
  },
  {
   "cell_type": "markdown",
   "id": "14bfdbea-25bc-4605-b315-6212c25ffa6d",
   "metadata": {},
   "source": [
    "- list can give all the data types"
   ]
  },
  {
   "cell_type": "markdown",
   "id": "f118d1f3-3d78-428e-8e8a-e21ef0c602ff",
   "metadata": {},
   "source": []
  },
  {
   "cell_type": "code",
   "execution_count": 17,
   "id": "d6ca2020-5362-4b37-8883-6403a008bbc6",
   "metadata": {},
   "outputs": [
    {
     "data": {
      "text/plain": [
       "['naresh it']"
      ]
     },
     "execution_count": 17,
     "metadata": {},
     "output_type": "execute_result"
    }
   ],
   "source": [
    "name='naresh it'\n",
    "l5=[name]\n",
    "l5"
   ]
  },
  {
   "cell_type": "code",
   "execution_count": 19,
   "id": "59ba31e9-0292-4e86-ad6c-7416b41570d7",
   "metadata": {},
   "outputs": [
    {
     "data": {
      "text/plain": [
       "['100', '100', '100']"
      ]
     },
     "execution_count": 19,
     "metadata": {},
     "output_type": "execute_result"
    }
   ],
   "source": [
    "l6=['100','100','100']\n",
    "l6"
   ]
  },
  {
   "cell_type": "code",
   "execution_count": 21,
   "id": "3b3b8ae1-a393-426b-a31a-20d483776b41",
   "metadata": {},
   "outputs": [
    {
     "data": {
      "text/plain": [
       "['naresh it', '100', '100', '100']"
      ]
     },
     "execution_count": 21,
     "metadata": {},
     "output_type": "execute_result"
    }
   ],
   "source": [
    "l7=l5+l6\n",
    "l7"
   ]
  },
  {
   "cell_type": "code",
   "execution_count": 23,
   "id": "a99cfaf8-7051-46ff-9324-9846cce85abd",
   "metadata": {},
   "outputs": [
    {
     "data": {
      "text/plain": [
       "[100, 'Apple', ['A', 2]]"
      ]
     },
     "execution_count": 23,
     "metadata": {},
     "output_type": "execute_result"
    }
   ],
   "source": [
    "l7=[100,'Apple',['A',2]]\n",
    "l7"
   ]
  },
  {
   "cell_type": "code",
   "execution_count": null,
   "id": "4efcc0fd-d4aa-40de-8001-c012abf1cd5f",
   "metadata": {},
   "outputs": [],
   "source": [
    "l1=[1,2,3,4]\n",
    "l2=['A', 'B', 'C', 'D']\n",
    "l3=[1,2,3,4,'A', 'B', 'C', 'D']\n",
    "l4=[1,2,3,'Aapple','Ball','Cat',True,False]\n",
    "name='naresh it'\n",
    "l5=[name]\n",
    "l6=['100','100','100']\n",
    "l7=l5+l6\n",
    "l7=[100,'Apple',['A',2]]"
   ]
  },
  {
   "cell_type": "markdown",
   "id": "0995c7b8-52d4-4276-a864-d6f0617bd97b",
   "metadata": {},
   "source": [
    "- Lists are array of elements\n",
    "\n",
    "- list elements are heterogeneous all the data types we can represent in a list\n",
    "\n",
    "- list elements are allowed duplicates\n",
    "\n",
    "- list in list is possible\n",
    "\n",
    "- variable assignment also possible in the list"
   ]
  },
  {
   "cell_type": "markdown",
   "id": "8bd01530-a2f0-4301-babc-f39b87026972",
   "metadata": {},
   "source": [
    "- len\n",
    "\n",
    "- max\n",
    "\n",
    "- min\n",
    "\n",
    "- sorted\n",
    "\n",
    "- reverse"
   ]
  },
  {
   "cell_type": "code",
   "execution_count": 26,
   "id": "daa1d06c-9c1c-4f8d-b3cd-983a8019786c",
   "metadata": {},
   "outputs": [
    {
     "data": {
      "text/plain": [
       "4"
      ]
     },
     "execution_count": 26,
     "metadata": {},
     "output_type": "execute_result"
    }
   ],
   "source": [
    "len(l1)"
   ]
  },
  {
   "cell_type": "code",
   "execution_count": 28,
   "id": "a099db24-278b-470b-a8dc-9766ce48b85e",
   "metadata": {},
   "outputs": [
    {
     "data": {
      "text/plain": [
       "4"
      ]
     },
     "execution_count": 28,
     "metadata": {},
     "output_type": "execute_result"
    }
   ],
   "source": [
    "len(l2)"
   ]
  },
  {
   "cell_type": "code",
   "execution_count": 30,
   "id": "3b2096d7-0c13-4c62-ae24-b11d5ebc5ad0",
   "metadata": {},
   "outputs": [
    {
     "data": {
      "text/plain": [
       "8"
      ]
     },
     "execution_count": 30,
     "metadata": {},
     "output_type": "execute_result"
    }
   ],
   "source": [
    "len(l3)"
   ]
  },
  {
   "cell_type": "code",
   "execution_count": 32,
   "id": "c2a865df-86a5-4909-a060-31ffb1751644",
   "metadata": {},
   "outputs": [
    {
     "data": {
      "text/plain": [
       "8"
      ]
     },
     "execution_count": 32,
     "metadata": {},
     "output_type": "execute_result"
    }
   ],
   "source": [
    "len(l4)"
   ]
  },
  {
   "cell_type": "code",
   "execution_count": 34,
   "id": "4e93961b-5053-4e5a-a701-a1e71b63115c",
   "metadata": {},
   "outputs": [
    {
     "data": {
      "text/plain": [
       "1"
      ]
     },
     "execution_count": 34,
     "metadata": {},
     "output_type": "execute_result"
    }
   ],
   "source": [
    "len(l5)"
   ]
  },
  {
   "cell_type": "code",
   "execution_count": 36,
   "id": "60fcd7a2-6f88-4b8d-802c-249d3de7a2d5",
   "metadata": {},
   "outputs": [
    {
     "data": {
      "text/plain": [
       "3"
      ]
     },
     "execution_count": 36,
     "metadata": {},
     "output_type": "execute_result"
    }
   ],
   "source": [
    "len(l6)"
   ]
  },
  {
   "cell_type": "code",
   "execution_count": 38,
   "id": "be3e918c-70e6-4825-be87-54dbb0155820",
   "metadata": {},
   "outputs": [
    {
     "data": {
      "text/plain": [
       "3"
      ]
     },
     "execution_count": 38,
     "metadata": {},
     "output_type": "execute_result"
    }
   ],
   "source": [
    "len(l7)"
   ]
  },
  {
   "cell_type": "code",
   "execution_count": null,
   "id": "cc9bb7b2-b358-4403-8902-5043f67bf74f",
   "metadata": {},
   "outputs": [],
   "source": [
    "l1=[1,2,3,4]\n",
    "l2=['A', 'B', 'C', 'D']\n",
    "l3=[1,2,3,4,'A', 'B', 'C', 'D']\n",
    "l4=[1,2,3,'Aapple','Ball','Cat',True,False]\n",
    "name='naresh it'\n",
    "l5=[name]\n",
    "l6=['100','100','100']\n",
    "l7=[100,'Apple',['A',2]]"
   ]
  },
  {
   "cell_type": "code",
   "execution_count": 42,
   "id": "9ce9a52f-4e2a-40d3-b634-8005b67270fa",
   "metadata": {},
   "outputs": [
    {
     "data": {
      "text/plain": [
       "4"
      ]
     },
     "execution_count": 42,
     "metadata": {},
     "output_type": "execute_result"
    }
   ],
   "source": [
    "max(l1)"
   ]
  },
  {
   "cell_type": "code",
   "execution_count": 44,
   "id": "755c499a-478f-4901-b38c-1d54ea4e792b",
   "metadata": {},
   "outputs": [
    {
     "data": {
      "text/plain": [
       "'D'"
      ]
     },
     "execution_count": 44,
     "metadata": {},
     "output_type": "execute_result"
    }
   ],
   "source": [
    "max(l2)"
   ]
  },
  {
   "cell_type": "code",
   "execution_count": 46,
   "id": "e31a1e15-341a-4726-b244-d4aa5ca24339",
   "metadata": {},
   "outputs": [
    {
     "ename": "TypeError",
     "evalue": "'>' not supported between instances of 'str' and 'int'",
     "output_type": "error",
     "traceback": [
      "\u001b[1;31m---------------------------------------------------------------------------\u001b[0m",
      "\u001b[1;31mTypeError\u001b[0m                                 Traceback (most recent call last)",
      "Cell \u001b[1;32mIn[46], line 1\u001b[0m\n\u001b[1;32m----> 1\u001b[0m \u001b[38;5;28mmax\u001b[39m(l3)\n",
      "\u001b[1;31mTypeError\u001b[0m: '>' not supported between instances of 'str' and 'int'"
     ]
    }
   ],
   "source": [
    "max(l3)"
   ]
  },
  {
   "cell_type": "code",
   "execution_count": 48,
   "id": "b9834be2-71aa-42cb-b5ea-cd09433f06fa",
   "metadata": {},
   "outputs": [
    {
     "ename": "TypeError",
     "evalue": "'>' not supported between instances of 'str' and 'int'",
     "output_type": "error",
     "traceback": [
      "\u001b[1;31m---------------------------------------------------------------------------\u001b[0m",
      "\u001b[1;31mTypeError\u001b[0m                                 Traceback (most recent call last)",
      "Cell \u001b[1;32mIn[48], line 1\u001b[0m\n\u001b[1;32m----> 1\u001b[0m \u001b[38;5;28mmax\u001b[39m(l4)\n",
      "\u001b[1;31mTypeError\u001b[0m: '>' not supported between instances of 'str' and 'int'"
     ]
    }
   ],
   "source": [
    "max(l4)"
   ]
  },
  {
   "cell_type": "code",
   "execution_count": 50,
   "id": "bd1c42ff-98fa-49f6-abb0-c3aea0577864",
   "metadata": {},
   "outputs": [
    {
     "data": {
      "text/plain": [
       "'naresh it'"
      ]
     },
     "execution_count": 50,
     "metadata": {},
     "output_type": "execute_result"
    }
   ],
   "source": [
    "max(l5)"
   ]
  },
  {
   "cell_type": "code",
   "execution_count": 52,
   "id": "281770ce-b5ed-4c67-bdfc-2e771e8fcae8",
   "metadata": {},
   "outputs": [
    {
     "data": {
      "text/plain": [
       "'100'"
      ]
     },
     "execution_count": 52,
     "metadata": {},
     "output_type": "execute_result"
    }
   ],
   "source": [
    "max(l6)"
   ]
  },
  {
   "cell_type": "code",
   "execution_count": 54,
   "id": "df02bdc5-6147-4f16-a53c-1b5cb9556390",
   "metadata": {},
   "outputs": [
    {
     "ename": "TypeError",
     "evalue": "'>' not supported between instances of 'str' and 'int'",
     "output_type": "error",
     "traceback": [
      "\u001b[1;31m---------------------------------------------------------------------------\u001b[0m",
      "\u001b[1;31mTypeError\u001b[0m                                 Traceback (most recent call last)",
      "Cell \u001b[1;32mIn[54], line 1\u001b[0m\n\u001b[1;32m----> 1\u001b[0m \u001b[38;5;28mmax\u001b[39m(l7)\n",
      "\u001b[1;31mTypeError\u001b[0m: '>' not supported between instances of 'str' and 'int'"
     ]
    }
   ],
   "source": [
    "max(l7)"
   ]
  },
  {
   "cell_type": "code",
   "execution_count": null,
   "id": "15afb85b-5400-418b-b865-ebe388de992e",
   "metadata": {},
   "outputs": [],
   "source": [
    "l1=[1,2,3,4]\n",
    "l2=['A', 'B', 'C', 'D']\n",
    "l3=[1,2,3,4,'A', 'B', 'C', 'D']\n",
    "l4=[1,2,3,'Aapple','Ball','Cat',True,False]\n",
    "name='naresh it'\n",
    "l5=[name]\n",
    "l6=['100','100','100']\n",
    "l7=l5+l6\n",
    "l7=[100,'Apple',['A',2]]"
   ]
  },
  {
   "cell_type": "code",
   "execution_count": 58,
   "id": "12f9f55e-446b-47ed-8267-034a194a706b",
   "metadata": {},
   "outputs": [
    {
     "data": {
      "text/plain": [
       "1"
      ]
     },
     "execution_count": 58,
     "metadata": {},
     "output_type": "execute_result"
    }
   ],
   "source": [
    "min(l1)"
   ]
  },
  {
   "cell_type": "code",
   "execution_count": 62,
   "id": "4e603cc4-e8d0-4756-9292-283e9a5c3c3e",
   "metadata": {},
   "outputs": [
    {
     "name": "stdout",
     "output_type": "stream",
     "text": [
      "A\n"
     ]
    },
    {
     "ename": "TypeError",
     "evalue": "'<' not supported between instances of 'str' and 'int'",
     "output_type": "error",
     "traceback": [
      "\u001b[1;31m---------------------------------------------------------------------------\u001b[0m",
      "\u001b[1;31mTypeError\u001b[0m                                 Traceback (most recent call last)",
      "Cell \u001b[1;32mIn[62], line 2\u001b[0m\n\u001b[0;32m      1\u001b[0m \u001b[38;5;28mprint\u001b[39m(\u001b[38;5;28mmin\u001b[39m(l2))\n\u001b[1;32m----> 2\u001b[0m \u001b[38;5;28mprint\u001b[39m(\u001b[38;5;28mmin\u001b[39m(l3))\n\u001b[0;32m      3\u001b[0m \u001b[38;5;28mprint\u001b[39m(\u001b[38;5;28mmin\u001b[39m(l4))\n\u001b[0;32m      4\u001b[0m \u001b[38;5;28mprint\u001b[39m(\u001b[38;5;28mmin\u001b[39m(l5))\n",
      "\u001b[1;31mTypeError\u001b[0m: '<' not supported between instances of 'str' and 'int'"
     ]
    }
   ],
   "source": [
    "print(min(l2))\n",
    "print(min(l3))\n",
    "print(min(l4))\n",
    "print(min(l5))\n",
    "print(min(l6))\n",
    "print(min(l7))"
   ]
  },
  {
   "cell_type": "code",
   "execution_count": 66,
   "id": "90bf3713-0386-40f3-a7d5-94f464860e91",
   "metadata": {},
   "outputs": [
    {
     "ename": "TypeError",
     "evalue": "'<' not supported between instances of 'str' and 'int'",
     "output_type": "error",
     "traceback": [
      "\u001b[1;31m---------------------------------------------------------------------------\u001b[0m",
      "\u001b[1;31mTypeError\u001b[0m                                 Traceback (most recent call last)",
      "Cell \u001b[1;32mIn[66], line 1\u001b[0m\n\u001b[1;32m----> 1\u001b[0m \u001b[38;5;28mmin\u001b[39m(l7)\n",
      "\u001b[1;31mTypeError\u001b[0m: '<' not supported between instances of 'str' and 'int'"
     ]
    }
   ],
   "source": [
    "min(l7)"
   ]
  },
  {
   "cell_type": "code",
   "execution_count": 68,
   "id": "a5853120-0848-4930-b3a1-1cbc07a4450e",
   "metadata": {},
   "outputs": [
    {
     "name": "stdout",
     "output_type": "stream",
     "text": [
      "[1, 2, 3, 4]\n",
      "['A', 'B', 'C', 'D']\n"
     ]
    },
    {
     "ename": "TypeError",
     "evalue": "'<' not supported between instances of 'str' and 'int'",
     "output_type": "error",
     "traceback": [
      "\u001b[1;31m---------------------------------------------------------------------------\u001b[0m",
      "\u001b[1;31mTypeError\u001b[0m                                 Traceback (most recent call last)",
      "Cell \u001b[1;32mIn[68], line 3\u001b[0m\n\u001b[0;32m      1\u001b[0m \u001b[38;5;28mprint\u001b[39m(\u001b[38;5;28msorted\u001b[39m(l1))\n\u001b[0;32m      2\u001b[0m \u001b[38;5;28mprint\u001b[39m(\u001b[38;5;28msorted\u001b[39m(l2))\n\u001b[1;32m----> 3\u001b[0m \u001b[38;5;28mprint\u001b[39m(\u001b[38;5;28msorted\u001b[39m(l3))\n\u001b[0;32m      4\u001b[0m \u001b[38;5;28mprint\u001b[39m(\u001b[38;5;28msorted\u001b[39m(l4))\n\u001b[0;32m      5\u001b[0m \u001b[38;5;28mprint\u001b[39m(\u001b[38;5;28msorted\u001b[39m(l5))\n",
      "\u001b[1;31mTypeError\u001b[0m: '<' not supported between instances of 'str' and 'int'"
     ]
    }
   ],
   "source": [
    "print(sorted(l1))\n",
    "print(sorted(l2))\n",
    "print(sorted(l3))\n",
    "print(sorted(l4))\n",
    "print(sorted(l5))\n",
    "print(sorted(l6))\n",
    "print(sorted(l7))"
   ]
  },
  {
   "cell_type": "code",
   "execution_count": null,
   "id": "dafb45f3-af91-450e-9c3c-1bb11cae332a",
   "metadata": {},
   "outputs": [],
   "source": [
    "l1=[1,2,3,4]\n",
    "l2=['A', 'B', 'C', 'D']\n",
    "l3=[1,2,3,4,'A', 'B', 'C', 'D']\n",
    "l4=[1,2,3,'Aapple','Ball','Cat',True,False]\n",
    "name='naresh it'\n",
    "l5=[name]\n",
    "l6=['100','100','100']\n",
    "l7=[100,'Apple',['A',2]]"
   ]
  },
  {
   "cell_type": "code",
   "execution_count": 104,
   "id": "e117b4cc-6aa5-40ed-b2f4-7173e3404829",
   "metadata": {},
   "outputs": [
    {
     "name": "stdout",
     "output_type": "stream",
     "text": [
      "[4, 3, 2, 1]\n",
      "['D', 'C', 'B', 'A']\n",
      "['D', 'C', 'B', 'A', 4, 3, 2, 1]\n",
      "[False, True, 'Cat', 'Ball', 'Aapple', 3, 2, 1]\n",
      "['naresh it']\n",
      "['100', '100', '100']\n",
      "[['A', 2], 'Apple', 100]\n"
     ]
    }
   ],
   "source": [
    "print(list(reversed(l1)))\n",
    "print(list(reversed(l2)))\n",
    "print(list(reversed(l3)))\n",
    "print(list(reversed(l4)))\n",
    "print(list(reversed(l5)))\n",
    "print(list(reversed(l6)))\n",
    "print(list(reversed(l7)))"
   ]
  },
  {
   "cell_type": "code",
   "execution_count": 106,
   "id": "67720817-15be-4bdc-baa4-df467218415d",
   "metadata": {},
   "outputs": [
    {
     "data": {
      "text/plain": [
       "'banu'"
      ]
     },
     "execution_count": 106,
     "metadata": {},
     "output_type": "execute_result"
    }
   ],
   "source": [
    "name=['adithya','aadithya','banu']\n",
    "max(name)\n",
    "# first compare all first letters\n",
    "# if all first letters ascii values same\n",
    "# then compare with  second letters\n",
    "# continue the process"
   ]
  },
  {
   "cell_type": "code",
   "execution_count": 110,
   "id": "43c31c86-a00c-4e58-a5fe-4acf1e3d55d7",
   "metadata": {},
   "outputs": [
    {
     "data": {
      "text/plain": [
       "3"
      ]
     },
     "execution_count": 110,
     "metadata": {},
     "output_type": "execute_result"
    }
   ],
   "source": [
    "list1=['Apple',1,['Cherry','Banana']]\n",
    "len(list1)"
   ]
  },
  {
   "cell_type": "code",
   "execution_count": null,
   "id": "e811d0c9-59a6-4bc3-b808-b2d35e96c35b",
   "metadata": {},
   "outputs": [],
   "source": [
    "list1=[65,'A']\n",
    "max(list1) #error\n",
    "\n",
    "# same data type only comparable"
   ]
  },
  {
   "cell_type": "markdown",
   "id": "11fa8b98-7b24-4d6a-8c25-9839581d5c39",
   "metadata": {},
   "source": [
    "**Index**"
   ]
  },
  {
   "cell_type": "code",
   "execution_count": 117,
   "id": "22fd3172-754c-4538-a2c1-bf97bb989eae",
   "metadata": {},
   "outputs": [
    {
     "data": {
      "text/plain": [
       "[1, 2, 3, 'Aapple', 'Ball', 'Cat', True, False]"
      ]
     },
     "execution_count": 117,
     "metadata": {},
     "output_type": "execute_result"
    }
   ],
   "source": [
    "l4=[1,2,3,'Aapple','Ball','Cat',True,False]\n",
    "l4[-1:]\n",
    "l4[-8:]\n",
    "\n",
    "# -8 -7 -6    -5   -4    -3    -2   -1\n",
    "#  1  2  3  Apple  Ball  Cat  True  False\n",
    "#  0  1  2    3     4     5    6     7"
   ]
  },
  {
   "cell_type": "code",
   "execution_count": null,
   "id": "72adaae3-037a-45d2-9256-e34b9b794ec6",
   "metadata": {},
   "outputs": [],
   "source": [
    "l1=[1,[2]]\n",
    "new=l1[1]   # [2] will come again it is a list, one element\n",
    "new[0]\n",
    "\n",
    "l1[1][0]"
   ]
  },
  {
   "cell_type": "code",
   "execution_count": 119,
   "id": "c70bbe22-9b81-4da3-bba3-de675ce79827",
   "metadata": {},
   "outputs": [
    {
     "data": {
      "text/plain": [
       "'A'"
      ]
     },
     "execution_count": 119,
     "metadata": {},
     "output_type": "execute_result"
    }
   ],
   "source": [
    "l2=[1,[2,'A']]\n",
    "l2[1][1]\n",
    "\n",
    "# 'A' is represented at index 1\n",
    "#  so we given l1[1]:[2,'A'] it is also a list\n",
    "#  The list has two elements\n",
    "#  'A' at 1st index\n",
    "# L1[1][1]"
   ]
  },
  {
   "cell_type": "code",
   "execution_count": 123,
   "id": "02f26eb8-ebd3-4b2c-a723-b82d79a567e6",
   "metadata": {},
   "outputs": [
    {
     "data": {
      "text/plain": [
       "'B'"
      ]
     },
     "execution_count": 123,
     "metadata": {},
     "output_type": "execute_result"
    }
   ],
   "source": [
    "l1=[1,[2,['A','B']]]\n",
    "l1[1][1][1]"
   ]
  },
  {
   "cell_type": "code",
   "execution_count": 129,
   "id": "5a7362c9-9582-4c3a-ba55-95b438d227e3",
   "metadata": {},
   "outputs": [
    {
     "data": {
      "text/plain": [
       "['A', 'B']"
      ]
     },
     "execution_count": 129,
     "metadata": {},
     "output_type": "execute_result"
    }
   ],
   "source": [
    "l1[1][1]"
   ]
  },
  {
   "cell_type": "code",
   "execution_count": 159,
   "id": "de410554-9591-4e9b-b81c-e5ef15d677aa",
   "metadata": {},
   "outputs": [
    {
     "data": {
      "text/plain": [
       "3"
      ]
     },
     "execution_count": 159,
     "metadata": {},
     "output_type": "execute_result"
    }
   ],
   "source": [
    "l2=[1,2,[3,[4,[5,['Apple']]]]]\n",
    "len(l2)\n"
   ]
  },
  {
   "cell_type": "code",
   "execution_count": 163,
   "id": "7fff8ccf-a987-4a5a-bf39-e2463b8b3dfc",
   "metadata": {},
   "outputs": [
    {
     "data": {
      "text/plain": [
       "['Apple']"
      ]
     },
     "execution_count": 163,
     "metadata": {},
     "output_type": "execute_result"
    }
   ],
   "source": [
    "l2[2][1][1][1]"
   ]
  },
  {
   "cell_type": "code",
   "execution_count": 169,
   "id": "9b5d2ad3-2cb9-4cd4-b4ce-6cc340fc7173",
   "metadata": {},
   "outputs": [
    {
     "data": {
      "text/plain": [
       "5"
      ]
     },
     "execution_count": 169,
     "metadata": {},
     "output_type": "execute_result"
    }
   ],
   "source": [
    "l3=['Apple',1,'solapur',['cherry','papaya',70,[123,'banana'],'tomato'],'python']\n",
    "len(l3)"
   ]
  },
  {
   "cell_type": "code",
   "execution_count": 181,
   "id": "5f30d22a-fa82-41a5-880c-f18ed9ff54a9",
   "metadata": {},
   "outputs": [
    {
     "data": {
      "text/plain": [
       "'banana'"
      ]
     },
     "execution_count": 181,
     "metadata": {},
     "output_type": "execute_result"
    }
   ],
   "source": [
    "l3[3][3][1]"
   ]
  },
  {
   "cell_type": "code",
   "execution_count": 183,
   "id": "fa183e59-629d-4c99-96f7-58d17e9dcd6f",
   "metadata": {},
   "outputs": [
    {
     "data": {
      "text/plain": [
       "1"
      ]
     },
     "execution_count": 183,
     "metadata": {},
     "output_type": "execute_result"
    }
   ],
   "source": [
    "list1=[[[[[[[1,'cherry']]]]]]]\n",
    "len(list1)"
   ]
  },
  {
   "cell_type": "code",
   "execution_count": 191,
   "id": "99de3760-7bd6-4ff7-858a-d3d0cfba757b",
   "metadata": {},
   "outputs": [
    {
     "data": {
      "text/plain": [
       "'cherry'"
      ]
     },
     "execution_count": 191,
     "metadata": {},
     "output_type": "execute_result"
    }
   ],
   "source": [
    "list1[0][0][0][0][0][0][1]"
   ]
  },
  {
   "cell_type": "code",
   "execution_count": 193,
   "id": "7298b087-6a7e-4b45-8093-743c89a77497",
   "metadata": {},
   "outputs": [
    {
     "data": {
      "text/plain": [
       "2"
      ]
     },
     "execution_count": 193,
     "metadata": {},
     "output_type": "execute_result"
    }
   ],
   "source": [
    "l4=['MH',\n",
    "    ['Nagpur',['orange',['likes',['king'],['shivaji',['son',['shmbaji']]]]]\n",
    "    ]]\n",
    "len(l4)\n",
    "        "
   ]
  },
  {
   "cell_type": "code",
   "execution_count": 207,
   "id": "cd5e2488-68e8-4c05-929e-01f1f6cf1c88",
   "metadata": {},
   "outputs": [
    {
     "data": {
      "text/plain": [
       "['shmbaji']"
      ]
     },
     "execution_count": 207,
     "metadata": {},
     "output_type": "execute_result"
    }
   ],
   "source": [
    "l4[1][1][1][2][1][1]"
   ]
  },
  {
   "cell_type": "code",
   "execution_count": null,
   "id": "50fa2300-97cc-4a07-8348-82acbf3f2bfb",
   "metadata": {},
   "outputs": [],
   "source": [
    "assignment\n",
    "\n",
    "# in operator: for loop\n",
    "# index\n",
    "# mutability check\n",
    "# slicing\n",
    "tomorrow list methods"
   ]
  },
  {
   "cell_type": "code",
   "execution_count": 15,
   "id": "382f62c1-9d2d-4950-aaaf-7a34c0062dba",
   "metadata": {},
   "outputs": [
    {
     "name": "stdout",
     "output_type": "stream",
     "text": [
      "1\n",
      "2\n",
      "3\n",
      "A\n",
      "B\n",
      "C\n"
     ]
    }
   ],
   "source": [
    "list1=[1,2,3,'A','B','C']\n",
    "for i in list1:\n",
    "    print(i)"
   ]
  },
  {
   "cell_type": "code",
   "execution_count": 43,
   "id": "12ec43e5-915f-4f1e-99cd-b1d125aec25a",
   "metadata": {},
   "outputs": [
    {
     "name": "stdout",
     "output_type": "stream",
     "text": [
      "5\n"
     ]
    }
   ],
   "source": [
    "#Index\n",
    "list2=['Apple','Bat','Cat',1,2,3]\n",
    "print(list2.index(3))"
   ]
  },
  {
   "cell_type": "code",
   "execution_count": 51,
   "id": "34b23323-1584-4f33-a57f-f871e4155d10",
   "metadata": {},
   "outputs": [
    {
     "name": "stdout",
     "output_type": "stream",
     "text": [
      "[1, 2, 3, 3, 5]\n"
     ]
    }
   ],
   "source": [
    "# mutability check\n",
    "l2=[1,2,3,4,5]\n",
    "l2[3]=3\n",
    "print(l2)"
   ]
  },
  {
   "cell_type": "code",
   "execution_count": 53,
   "id": "5db738b4-94e5-45da-a9ff-777cf5f8249e",
   "metadata": {},
   "outputs": [
    {
     "name": "stdout",
     "output_type": "stream",
     "text": [
      "['Apple', 'Ball', 1, 2, 'Abhitha']\n"
     ]
    }
   ],
   "source": [
    "l3=['Apple','Ball',1,2,3]\n",
    "l3[4]='Abhitha'\n",
    "print(l3)"
   ]
  },
  {
   "cell_type": "code",
   "execution_count": 61,
   "id": "95e0c9dc-6a19-4d53-a595-081e2c59c1c2",
   "metadata": {},
   "outputs": [
    {
     "data": {
      "text/plain": [
       "[2, 3, 'A', 'B']"
      ]
     },
     "execution_count": 61,
     "metadata": {},
     "output_type": "execute_result"
    }
   ],
   "source": [
    "# slicing\n",
    "list3=[1,2,3,'A','B','C']\n",
    "list3[1:5]"
   ]
  },
  {
   "cell_type": "code",
   "execution_count": 95,
   "id": "542ebf15-8534-4fba-a7ee-63d888228937",
   "metadata": {},
   "outputs": [
    {
     "data": {
      "text/plain": [
       "9"
      ]
     },
     "execution_count": 95,
     "metadata": {},
     "output_type": "execute_result"
    }
   ],
   "source": [
    "list4=[1,2,3,4,'Apple',[2,3,['Ball',8,9]]]\n",
    "list4[5][2][2]"
   ]
  },
  {
   "cell_type": "markdown",
   "id": "e8348018-e3f0-4e6e-b19e-81dc84444cf3",
   "metadata": {},
   "source": [
    "**List Methods**"
   ]
  },
  {
   "cell_type": "code",
   "execution_count": 4,
   "id": "ec97c143-76d6-4640-85d3-f9045e517581",
   "metadata": {},
   "outputs": [
    {
     "data": {
      "text/plain": [
       "['__add__',\n",
       " '__class__',\n",
       " '__class_getitem__',\n",
       " '__contains__',\n",
       " '__delattr__',\n",
       " '__delitem__',\n",
       " '__dir__',\n",
       " '__doc__',\n",
       " '__eq__',\n",
       " '__format__',\n",
       " '__ge__',\n",
       " '__getattribute__',\n",
       " '__getitem__',\n",
       " '__getstate__',\n",
       " '__gt__',\n",
       " '__hash__',\n",
       " '__iadd__',\n",
       " '__imul__',\n",
       " '__init__',\n",
       " '__init_subclass__',\n",
       " '__iter__',\n",
       " '__le__',\n",
       " '__len__',\n",
       " '__lt__',\n",
       " '__mul__',\n",
       " '__ne__',\n",
       " '__new__',\n",
       " '__reduce__',\n",
       " '__reduce_ex__',\n",
       " '__repr__',\n",
       " '__reversed__',\n",
       " '__rmul__',\n",
       " '__setattr__',\n",
       " '__setitem__',\n",
       " '__sizeof__',\n",
       " '__str__',\n",
       " '__subclasshook__',\n",
       " 'append',\n",
       " 'clear',\n",
       " 'copy',\n",
       " 'count',\n",
       " 'extend',\n",
       " 'index',\n",
       " 'insert',\n",
       " 'pop',\n",
       " 'remove',\n",
       " 'reverse',\n",
       " 'sort']"
      ]
     },
     "execution_count": 4,
     "metadata": {},
     "output_type": "execute_result"
    }
   ],
   "source": [
    "dir([])"
   ]
  },
  {
   "cell_type": "code",
   "execution_count": null,
   "id": "bb9ca03a-6909-4bc7-990a-2969ff01d7fc",
   "metadata": {},
   "outputs": [],
   "source": [
    "'append',\n",
    " 'clear',\n",
    " 'copy',\n",
    " 'count',\n",
    " 'extend',\n",
    " 'index',\n",
    " 'insert',\n",
    " 'pop',\n",
    " 'remove',\n",
    " 'reverse',\n",
    " 'sort']\n"
   ]
  },
  {
   "cell_type": "markdown",
   "id": "abb87fb1-8ebb-40e2-a944-24d5a58c7a14",
   "metadata": {},
   "source": [
    "**Append**"
   ]
  },
  {
   "cell_type": "markdown",
   "id": "774c9b2d-109e-4d1e-a008-01d7523d5e3f",
   "metadata": {},
   "source": [
    "- Adding elements in a list at last index\n",
    "\n",
    "- append method is very very imporatant\n",
    "\n",
    "- most of the time we will use append in the real time process\n",
    "\n",
    "- when you add the value the original list will be overwrite"
   ]
  },
  {
   "cell_type": "code",
   "execution_count": null,
   "id": "a1883570-80db-4c49-bbc4-6877da214239",
   "metadata": {},
   "outputs": [],
   "source": []
  },
  {
   "cell_type": "code",
   "execution_count": 8,
   "id": "879f330d-a5cf-42e3-82d7-4c912610d576",
   "metadata": {},
   "outputs": [
    {
     "data": {
      "text/plain": [
       "['Apple', 'Ball', 'Cat']"
      ]
     },
     "execution_count": 8,
     "metadata": {},
     "output_type": "execute_result"
    }
   ],
   "source": [
    "l=['Apple','Ball','Cat']\n",
    "l"
   ]
  },
  {
   "cell_type": "code",
   "execution_count": null,
   "id": "0d075229-6f2f-461d-9153-49e222bbe6f6",
   "metadata": {},
   "outputs": [],
   "source": [
    "# you want to add doll in a given list\n",
    "\n",
    "# keywords vs methods\n",
    "len()\n",
    "max()\n",
    "min()\n",
    "reversed()\n",
    "sorted()\n",
    "\n",
    "# methods\n",
    "<package>.<method>()"
   ]
  },
  {
   "cell_type": "code",
   "execution_count": 25,
   "id": "3521b404-96a5-48ea-8ada-368579c17dda",
   "metadata": {},
   "outputs": [],
   "source": [
    "l.append('doll')"
   ]
  },
  {
   "cell_type": "code",
   "execution_count": 27,
   "id": "d6b1bb01-137d-4112-8135-d86875b1c24c",
   "metadata": {},
   "outputs": [
    {
     "data": {
      "text/plain": [
       "['Apple', 'Ball', 'Cat', 5, 5, 'doll', 'doll']"
      ]
     },
     "execution_count": 27,
     "metadata": {},
     "output_type": "execute_result"
    }
   ],
   "source": [
    "l"
   ]
  },
  {
   "cell_type": "code",
   "execution_count": 35,
   "id": "bddc1477-67bd-480e-976f-632518d12cd6",
   "metadata": {},
   "outputs": [
    {
     "data": {
      "text/plain": [
       "[1, 2, 3, 4, 10]"
      ]
     },
     "execution_count": 35,
     "metadata": {},
     "output_type": "execute_result"
    }
   ],
   "source": [
    "l1=[1,2,3,4]\n",
    "l1.append(10)\n",
    "l1"
   ]
  },
  {
   "cell_type": "code",
   "execution_count": 37,
   "id": "34ec0a46-d564-45c9-81de-97f5cfa4469d",
   "metadata": {},
   "outputs": [
    {
     "data": {
      "text/plain": [
       "[10, 20, 'apple', ['A', 1], True]"
      ]
     },
     "execution_count": 37,
     "metadata": {},
     "output_type": "execute_result"
    }
   ],
   "source": [
    "l2=[]\n",
    "l2.append(10)\n",
    "l2.append(20)\n",
    "l2.append('apple')\n",
    "l2.append(['A',1])\n",
    "l2.append(True)\n",
    "l2"
   ]
  },
  {
   "cell_type": "code",
   "execution_count": 17,
   "id": "121edf51-4bbb-4bbc-800d-2f666d7a5d08",
   "metadata": {},
   "outputs": [
    {
     "data": {
      "text/plain": [
       "['dont',\n",
       " 'eat',\n",
       " 'unhealthy',\n",
       " ['foods,drinks,junk'],\n",
       " 'these,foods',\n",
       " 'spoil,our, health']"
      ]
     },
     "execution_count": 17,
     "metadata": {},
     "output_type": "execute_result"
    }
   ],
   "source": [
    "l3=[]\n",
    "l3.append('dont')\n",
    "l3.append('eat')\n",
    "l3.append('unhealthy')\n",
    "l3.append(['foods,drinks,junk'])\n",
    "l3.append('these,foods')\n",
    "l3.append('spoil,our, health')\n",
    "l3\n"
   ]
  },
  {
   "cell_type": "markdown",
   "id": "edd07679-b4b2-4e68-99ef-c7b5147b25b8",
   "metadata": {},
   "source": [
    "**Append method used to save the output in a list**"
   ]
  },
  {
   "cell_type": "code",
   "execution_count": 49,
   "id": "0a959b23-af31-44be-b0f9-37db099d6bb7",
   "metadata": {},
   "outputs": [
    {
     "name": "stdout",
     "output_type": "stream",
     "text": [
      "1\n",
      "4\n",
      "9\n",
      "16\n",
      "25\n"
     ]
    }
   ],
   "source": [
    "square_list=[]\n",
    "for i in range(1,6):\n",
    "    print(i*i)"
   ]
  },
  {
   "cell_type": "code",
   "execution_count": 57,
   "id": "08f8c7f1-d534-4c31-a70c-f11f90c88759",
   "metadata": {},
   "outputs": [
    {
     "data": {
      "text/plain": [
       "[1, 4, 9, 16, 25]"
      ]
     },
     "execution_count": 57,
     "metadata": {},
     "output_type": "execute_result"
    }
   ],
   "source": [
    "square_list=[]\n",
    "for i in range(1,6):\n",
    "    square_list.append(i*i)\n",
    "square_list"
   ]
  },
  {
   "cell_type": "code",
   "execution_count": 62,
   "id": "c7907b36-3cdb-455f-a143-99c4ae156d66",
   "metadata": {},
   "outputs": [
    {
     "data": {
      "text/plain": [
       "'python'"
      ]
     },
     "execution_count": 62,
     "metadata": {},
     "output_type": "execute_result"
    }
   ],
   "source": [
    "s=''\n",
    "for i in 'python':\n",
    "    s=s+i\n",
    "s"
   ]
  },
  {
   "cell_type": "code",
   "execution_count": 70,
   "id": "3c974111-f90e-49b0-9e8e-034fb4a65aa4",
   "metadata": {},
   "outputs": [
    {
     "data": {
      "text/plain": [
       "([1, 5, 9], 15)"
      ]
     },
     "execution_count": 70,
     "metadata": {},
     "output_type": "execute_result"
    }
   ],
   "source": [
    "#str='hai hai hai'\n",
    "# what are index of 'a'\n",
    "# save that index numbers in a list\n",
    "str='hai hai hai'\n",
    "id_list=[]\n",
    "for i in range(len(str)):\n",
    "    if str[i]=='a':\n",
    "        id_list.append(i)\n",
    "\n",
    "id_list,sum(id_list)"
   ]
  },
  {
   "cell_type": "code",
   "execution_count": null,
   "id": "9650303a-675f-4c34-a91e-ec267bfa13fd",
   "metadata": {},
   "outputs": [],
   "source": [
    "#Q2) L1=['hyd','chennai','banglore']\n",
    "# ans=['mumabi','chennai']\n",
    "# we want elements which are len of element>4\n",
    "\n",
    "#Q3) L1=['hyd','Mum#bai','chen#nai','banglore']\n",
    "# ans=['mum#bai','chen#nai']\n",
    "# we want elements which are having '#'\n",
    "\n",
    "#Q4) L1=['hyd','mumbai','chennai','banglore']\n",
    "# ans=['mumabi','chennai']\n",
    "# we want elements which are len of element>4\n"
   ]
  },
  {
   "cell_type": "code",
   "execution_count": 5,
   "id": "81a25f00-7dee-430c-be96-9143ae80aad0",
   "metadata": {},
   "outputs": [
    {
     "data": {
      "text/plain": [
       "['chennai', 'mumbai']"
      ]
     },
     "execution_count": 5,
     "metadata": {},
     "output_type": "execute_result"
    }
   ],
   "source": [
    "#Q2) L1=['hyd','chennai','mumbai','blr']\n",
    "# ans=['mumabi','chennai']\n",
    "# we want elements which are len of element>4\n",
    "L1=['hyd','chennai','mumbai','blr']\n",
    "ans=[]\n",
    "for i in L1:\n",
    "    if len(i)>4:\n",
    "     ans.append(i)\n",
    "ans"
   ]
  },
  {
   "cell_type": "code",
   "execution_count": 11,
   "id": "82281c64-6363-47b7-8608-6063cfe489ac",
   "metadata": {},
   "outputs": [
    {
     "data": {
      "text/plain": [
       "['Mum#bai', 'chen#nai']"
      ]
     },
     "execution_count": 11,
     "metadata": {},
     "output_type": "execute_result"
    }
   ],
   "source": [
    "#Q3) L1=['hyd','Mum#bai','chen#nai','banglore']\n",
    "# ans=['mum#bai','chen#nai']\n",
    "# we want elements which are having '#'\n",
    "L1=['hyd','Mum#bai','chen#nai','banglore']\n",
    "ans=[]\n",
    "for i in L1:\n",
    "    if'#' in i:\n",
    "        ans.append(i)\n",
    "ans"
   ]
  },
  {
   "cell_type": "code",
   "execution_count": null,
   "id": "ba470177-60df-4dbc-9eb6-b82b8a676d42",
   "metadata": {},
   "outputs": [],
   "source": [
    " L1=['hyd','Mum#bai','chen#nai','banglore']\n",
    "for i in L1:\n",
    "    for i in '#'"
   ]
  },
  {
   "cell_type": "code",
   "execution_count": null,
   "id": "cc0b8640-0e73-46ef-a258-ce64c766791f",
   "metadata": {},
   "outputs": [],
   "source": [
    "'nadeem' in '#'   # naddem is available in '#'\n",
    "'#' in 'naddem'   # is '# ' available in nadeem\n",
    "'nad##m' in '#'   # is nad##m avaibalne in '#'\n",
    "'#' in 'nad##m'   # is '#' available in 'nad##m'"
   ]
  },
  {
   "cell_type": "code",
   "execution_count": null,
   "id": "26201488-b5b8-4786-80b5-f714d22fc666",
   "metadata": {},
   "outputs": [],
   "source": [
    "# Q4)l1=['hyd','mumbai','chennai','blr']\n",
    "#  ans= ['Hyd','Mumbai','Chennai','Blr']\n",
    "#  we want lements which are len of element >4\n"
   ]
  },
  {
   "cell_type": "code",
   "execution_count": 15,
   "id": "08bfff27-6fd2-472d-b96a-163ff396b865",
   "metadata": {},
   "outputs": [
    {
     "data": {
      "text/plain": [
       "['Hyd', 'Mumbai', 'Chennai', 'Blr']"
      ]
     },
     "execution_count": 15,
     "metadata": {},
     "output_type": "execute_result"
    }
   ],
   "source": [
    "# Q5)l1=['Hyd','Mumbai','chennai','blr']\n",
    "#  ans= ['Hyd','Mumbai']\n",
    "#  we want lements which are having first letter capital\n",
    "l1=['Hyd','Mumbai','chennai','blr']\n",
    "ans=[]\n",
    "for i in l1:\n",
    "    ans.append(i.title())\n",
    "ans\n",
    "# difference between capitalize and title\n"
   ]
  },
  {
   "cell_type": "code",
   "execution_count": 17,
   "id": "25b733f9-c4e2-4ad1-bd98-edd92167cf3f",
   "metadata": {},
   "outputs": [
    {
     "data": {
      "text/plain": [
       "'Hello Im Learning Python'"
      ]
     },
     "execution_count": 17,
     "metadata": {},
     "output_type": "execute_result"
    }
   ],
   "source": [
    "str1='hello im learning python'\n",
    "# make everyword caitalize\n",
    "str1.title()"
   ]
  },
  {
   "cell_type": "code",
   "execution_count": null,
   "id": "8b4a7028-b7b8-4f90-be1f-cee5bd1258c7",
   "metadata": {},
   "outputs": [],
   "source": [
    "# do the same using capitalize method\n",
    "# step-1: split the string\n",
    "# step-2: take empty list\n",
    "# step-3: iterate the ecah letter appky capitalize and append it\n",
    "# step-4: join the list\n",
    "str='hello im learning python'\n",
    "s1=[]\n",
    "for i in"
   ]
  },
  {
   "cell_type": "code",
   "execution_count": null,
   "id": "2ac0c71a-e7fa-4f35-b25e-7997933c18c8",
   "metadata": {},
   "outputs": [],
   "source": [
    "# Q6)l1=['Hyd','Mum#bai','Chen#nai','blr']\n",
    "#  ans_#=['Mum#bai'',Chen#nai']  \n",
    "#  ans_without_#=['Hyd'','blr']\n",
    "#  we want lements which are having '#'"
   ]
  },
  {
   "cell_type": "code",
   "execution_count": null,
   "id": "f8c99752-2f29-4d69-a9c2-92dc0f23eb78",
   "metadata": {},
   "outputs": [],
   "source": [
    "# Q7) ask the user get 5 numbers randomly\n",
    "#     even_list and odd_list\n",
    "#     even numbers should append at even_list\n",
    "#     odd number should append at odd_list"
   ]
  },
  {
   "cell_type": "code",
   "execution_count": null,
   "id": "e92cb54a-c32f-4497-96b3-aa4f439775f6",
   "metadata": {},
   "outputs": [],
   "source": [
    "# Q8) str='hello hai how are you'\n",
    "# Maximum len of word using split and max method\n",
    "# sum of all the indexes of the maximum len of word using append\n"
   ]
  },
  {
   "cell_type": "code",
   "execution_count": null,
   "id": "2e870256-5d11-4d5b-8998-df27c7ab0a3b",
   "metadata": {},
   "outputs": [],
   "source": [
    "# Q9) str1='virat.kohli@rcb.com, Rohit.sharma@mi.co, KL.Rahul@lucknow.com'\n",
    "# Firstname=[]  second name=[]  cname =[]\n",
    "# append first name should be in first name list\n",
    "#        second name shoul be in second name list\n",
    "#        thirs name will be in thirs name list"
   ]
  },
  {
   "cell_type": "code",
   "execution_count": null,
   "id": "e175aed3-21f5-4aa0-a5fa-99030785ce42",
   "metadata": {},
   "outputs": [],
   "source": [
    "# 10 )\n",
    "#  You have two lists\n",
    "# qns=['What is capital of India',\n",
    "       'Who is PM of india',\n",
    "        'Who is ICT ODI captian']\n",
    "# ans = ['Delhi','Modi','Rohit']\n",
    "\n",
    "# For i in qns:\n",
    "#     print(i)\n",
    "#     ans= delhi\n",
    "#      index should match\n",
    "#      delhi  modi\n",
    "#      marks= marks+1\n",
    "# print the total marks\n",
    "Completed Assignment\n",
    "Nallagoni Omkar p"
   ]
  },
  {
   "cell_type": "markdown",
   "id": "f23738a0-ba27-466a-8da2-c3bf707cc718",
   "metadata": {},
   "source": [
    "**split-join**"
   ]
  },
  {
   "cell_type": "markdown",
   "id": "e3f8d003-f15b-47e8-b606-95587c1f435b",
   "metadata": {},
   "source": [
    "- split will apply for strings, to divide the words or characters\n",
    "\n",
    "- when we split the elements will be stored in a list format\n",
    "\n",
    "- join is used to combine the elements of a list in a string format\n",
    "\n",
    "- **split for strings**\n",
    "\n",
    "- **join for list**"
   ]
  },
  {
   "cell_type": "code",
   "execution_count": 26,
   "id": "8f76a153-77d0-4a32-b775-707fba2ab97c",
   "metadata": {},
   "outputs": [
    {
     "data": {
      "text/plain": [
       "['Hello', 'Im', 'Learning', 'Python']"
      ]
     },
     "execution_count": 26,
     "metadata": {},
     "output_type": "execute_result"
    }
   ],
   "source": [
    "# do the same using capitalize method\n",
    "# step-1: split the string\n",
    "# step-2: take empty list\n",
    "# step-3: iterate the ecah letter appky capitalize and append it\n",
    "# step-4: join the list\n",
    "str='hello im learning python'\n",
    "words=str.split()\n",
    "new_words=[]\n",
    "for i in words:\n",
    "    new_words.append(i.capitalize())\n",
    "new_words"
   ]
  },
  {
   "cell_type": "code",
   "execution_count": 30,
   "id": "a1f45399-104c-4e1c-bd2b-83c231c77b5e",
   "metadata": {},
   "outputs": [
    {
     "data": {
      "text/plain": [
       "'Hello  Im  Learning  Python'"
      ]
     },
     "execution_count": 30,
     "metadata": {},
     "output_type": "execute_result"
    }
   ],
   "source": [
    "# here we are joining the above output\n",
    "str='hello im learning python'\n",
    "words=str.split()\n",
    "new_words=[]\n",
    "for i in words:\n",
    "    new_words.append(i.capitalize())\n",
    "' '.join(new_words)  # we can use this line in the above code"
   ]
  },
  {
   "cell_type": "code",
   "execution_count": 48,
   "id": "98989d1b-de04-4d6c-a0c1-21fbd3b3b208",
   "metadata": {},
   "outputs": [
    {
     "name": "stdout",
     "output_type": "stream",
     "text": [
      "3.0\n"
     ]
    }
   ],
   "source": [
    "# calculate the distance betwwen two points\n",
    "# a=[1,2]\n",
    "# b=[4,5]\n",
    "# a=[x1,x2]\n",
    "# step-1: x2-x1\n",
    "#s tep-2: y2-y1\n",
    "import math\n",
    "a=[1,2]\n",
    "b=[1,5]\n",
    "v1=b[0]-a[0]\n",
    "v2=b[1]-a[1]\n",
    "v11=v1**2\n",
    "v22=v2**2\n",
    "new=math.sqrt(v11+v22)\n",
    "print(new)"
   ]
  },
  {
   "cell_type": "code",
   "execution_count": 70,
   "id": "1d0d93b7-ea79-49e7-9560-749cbd1a00f7",
   "metadata": {},
   "outputs": [
    {
     "name": "stdout",
     "output_type": "stream",
     "text": [
      "1.4142135623730951\n"
     ]
    }
   ],
   "source": [
    "# calculate the distance between val[2,3] to each and every point \n",
    "#and find the maximum distance\n",
    "points=[[1,2],[2,3],[3,4]]\n",
    "val=[2,3]\n",
    "for i in points:\n",
    "    v1=(val[0]-i[0])\n",
    "    v2=(val[1]-i[1])\n",
    "    v11=v1**2\n",
    "    v22=v2**2\n",
    "    new=math.sqrt(v11+v22)\n",
    "print(new)\n",
    "        "
   ]
  },
  {
   "cell_type": "code",
   "execution_count": 64,
   "id": "1dfb361e-268a-4cfc-9dea-f1cdcac396e5",
   "metadata": {},
   "outputs": [
    {
     "data": {
      "text/plain": [
       "-1"
      ]
     },
     "execution_count": 64,
     "metadata": {},
     "output_type": "execute_result"
    }
   ],
   "source": [
    "    v2=(val[0]-val[1])\n",
    "    v2\n"
   ]
  },
  {
   "cell_type": "code",
   "execution_count": null,
   "id": "ffa59df4-e6e4-4388-9f59-dfaa42302fad",
   "metadata": {},
   "outputs": [],
   "source": [
    "points=[[1,2],[2,3],[3,4]]\n",
    "val=[2,3]\n",
    "for i in points:\n",
    "    print(i[0],i[1])\n",
    "    print(val[0],val[i])\n",
    "    v1=(val[0]-i[0])\n",
    "    v2=(val[1]-i[1])\n",
    "    print(\n",
    "    v11=v1**2\n",
    "    v22=v2**2\n",
    "    new=math.sqrt(v11+v22)\n",
    "print(new)"
   ]
  },
  {
   "cell_type": "code",
   "execution_count": 7,
   "id": "e16cff3e-207e-443d-8c29-8a9926a92765",
   "metadata": {},
   "outputs": [
    {
     "name": "stdin",
     "output_type": "stream",
     "text": [
      "What is capital of India delhi\n",
      "Who is PM of india mdoi\n",
      "Who is ICT ODI captian rohit\n"
     ]
    },
    {
     "name": "stdout",
     "output_type": "stream",
     "text": [
      "total marks are: 2\n"
     ]
    }
   ],
   "source": [
    "# 10 )\n",
    "#  You have two lists\n",
    "# qns=['What is capital of India',\n",
    "       #'Who is PM of india',\n",
    "        #'Who is ICT ODI captian']\n",
    "# ans = ['Delhi','Modi','Rohit']\n",
    "\n",
    "# For i in qns:\n",
    "#     print(i)\n",
    "#     ans= delhi\n",
    "#      index should match\n",
    "#      delhi  modi\n",
    "#      marks= marks+1\n",
    "# print the total marks\n",
    "qns=['What is capital of India',\n",
    "       'Who is PM of india',\n",
    "        'Who is ICT ODI captian']\n",
    "ans = ['Delhi','Modi','Rohit']\n",
    "marks=0\n",
    "for i in range(len(qns)):\n",
    "    anss=input(qns[i])\n",
    "    if anss.lower()==ans[i].lower():\n",
    "        marks=marks+1  #marks=+1 best practice\n",
    "       \n",
    "print(\"total marks are:\", marks)\n"
   ]
  },
  {
   "cell_type": "code",
   "execution_count": 15,
   "id": "dbca9e25-183b-4bdd-9198-308dc10df614",
   "metadata": {},
   "outputs": [
    {
     "data": {
      "text/plain": [
       "['__add__',\n",
       " '__class__',\n",
       " '__class_getitem__',\n",
       " '__contains__',\n",
       " '__delattr__',\n",
       " '__delitem__',\n",
       " '__dir__',\n",
       " '__doc__',\n",
       " '__eq__',\n",
       " '__format__',\n",
       " '__ge__',\n",
       " '__getattribute__',\n",
       " '__getitem__',\n",
       " '__getstate__',\n",
       " '__gt__',\n",
       " '__hash__',\n",
       " '__iadd__',\n",
       " '__imul__',\n",
       " '__init__',\n",
       " '__init_subclass__',\n",
       " '__iter__',\n",
       " '__le__',\n",
       " '__len__',\n",
       " '__lt__',\n",
       " '__mul__',\n",
       " '__ne__',\n",
       " '__new__',\n",
       " '__reduce__',\n",
       " '__reduce_ex__',\n",
       " '__repr__',\n",
       " '__reversed__',\n",
       " '__rmul__',\n",
       " '__setattr__',\n",
       " '__setitem__',\n",
       " '__sizeof__',\n",
       " '__str__',\n",
       " '__subclasshook__',\n",
       " 'append',\n",
       " 'clear',\n",
       " 'copy',\n",
       " 'count',\n",
       " 'extend',\n",
       " 'index',\n",
       " 'insert',\n",
       " 'pop',\n",
       " 'remove',\n",
       " 'reverse',\n",
       " 'sort']"
      ]
     },
     "execution_count": 15,
     "metadata": {},
     "output_type": "execute_result"
    }
   ],
   "source": [
    "dir(list)"
   ]
  },
  {
   "cell_type": "code",
   "execution_count": null,
   "id": "474d283b-d6bc-469f-b3e2-00fb13c9a2a8",
   "metadata": {},
   "outputs": [],
   "source": [
    "'clear',\n",
    " 'copy',\n",
    " 'count',\n",
    " 'extend',\n",
    " 'index',\n",
    " 'insert',\n",
    " 'pop',\n",
    " 'remove',\n",
    " 'reverse',\n",
    " 'sort'"
   ]
  },
  {
   "cell_type": "code",
   "execution_count": null,
   "id": "925cc438-73dd-4533-a8e2-30ef38fcfddb",
   "metadata": {},
   "outputs": [],
   "source": [
    "# append vs extend vs concatenation vs insert\n",
    "# pop vs remove\n",
    "# reverse vs reversed\n",
    "# sort vs sorted\n",
    "# index\n",
    "# count\n",
    "# clear and copy\n"
   ]
  },
  {
   "cell_type": "code",
   "execution_count": 19,
   "id": "c35a6a2e-f575-45fa-b7b7-1d64f8f4eaf5",
   "metadata": {},
   "outputs": [
    {
     "name": "stdout",
     "output_type": "stream",
     "text": [
      "[]\n",
      "['a', 'b', 'c']\n"
     ]
    }
   ],
   "source": [
    "# clear\n",
    "l1=[1,2,3,4]\n",
    "l2=['a','b','c']\n",
    "l1.clear()\n",
    "print(l1)\n",
    "print(l2)"
   ]
  },
  {
   "cell_type": "code",
   "execution_count": 35,
   "id": "9758773b-d75e-4d5a-9d38-a4b4ada6ffe9",
   "metadata": {},
   "outputs": [
    {
     "name": "stdout",
     "output_type": "stream",
     "text": [
      "[1, 2, 3, 4]\n",
      "['a', 'b', 'c']\n",
      "['a', 'b', 'c']\n"
     ]
    }
   ],
   "source": [
    "#copy\n",
    "l1=[1,2,3,4]\n",
    "l2=['a','b','c']\n",
    "l3=l2.copy()\n",
    "print(l1)\n",
    "print(l2)\n",
    "print(l3)"
   ]
  },
  {
   "cell_type": "code",
   "execution_count": 67,
   "id": "7dd0eb02-c5d3-4c83-a1d0-1db82cc71188",
   "metadata": {},
   "outputs": [
    {
     "data": {
      "text/plain": [
       "[1, 2, 3, 4, 5, 6, 7]"
      ]
     },
     "execution_count": 67,
     "metadata": {},
     "output_type": "execute_result"
    }
   ],
   "source": [
    "l1=[1,2,3,4,5,6,7]\n",
    "l2=l1.copy()\n",
    "l1"
   ]
  },
  {
   "cell_type": "code",
   "execution_count": 69,
   "id": "46c7b399-1b9a-4b59-9a5c-3df35e289d48",
   "metadata": {},
   "outputs": [
    {
     "data": {
      "text/plain": [
       "[]"
      ]
     },
     "execution_count": 69,
     "metadata": {},
     "output_type": "execute_result"
    }
   ],
   "source": [
    "#clear\n",
    "l1.clear()\n",
    "l1"
   ]
  },
  {
   "cell_type": "code",
   "execution_count": 71,
   "id": "49fc6709-af9c-4499-b08f-42bad48b5996",
   "metadata": {},
   "outputs": [
    {
     "data": {
      "text/plain": [
       "[1, 2, 3, 4, 5, 6, 7]"
      ]
     },
     "execution_count": 71,
     "metadata": {},
     "output_type": "execute_result"
    }
   ],
   "source": [
    "l2"
   ]
  },
  {
   "cell_type": "code",
   "execution_count": 75,
   "id": "06caaac2-da27-4fa7-94b0-6271cc9e332f",
   "metadata": {},
   "outputs": [
    {
     "name": "stdout",
     "output_type": "stream",
     "text": [
      "<class 'list'>\n"
     ]
    }
   ],
   "source": [
    "print(type([]))"
   ]
  },
  {
   "cell_type": "markdown",
   "id": "da92bbbf-54ae-45b7-8588-726339bc3bea",
   "metadata": {},
   "source": [
    "**append-extend-concatenation-insert**"
   ]
  },
  {
   "cell_type": "code",
   "execution_count": 78,
   "id": "1bd2bf98-dea1-41fe-bd83-f31059be28ec",
   "metadata": {},
   "outputs": [
    {
     "name": "stdout",
     "output_type": "stream",
     "text": [
      "[1, 2, 3, 4, ['a', 'b', 'c']]\n",
      "['a', 'b', 'c']\n"
     ]
    }
   ],
   "source": [
    "l1=[1,2,3,4]\n",
    "l2=['a','b','c']\n",
    "l1.append(l2)\n",
    "print(l1)\n",
    "print(l2)"
   ]
  },
  {
   "cell_type": "code",
   "execution_count": 82,
   "id": "db170e93-7896-455f-a6f4-ec1d201a89ec",
   "metadata": {},
   "outputs": [
    {
     "name": "stdout",
     "output_type": "stream",
     "text": [
      "[1, 2, 3, 4, 'A', 'B', 'C', 'D']\n",
      "['A', 'B', 'C', 'D']\n"
     ]
    }
   ],
   "source": [
    "l1=[1,2,3,4]\n",
    "l2=['A','B','C','D']\n",
    "l1.extend(l2)\n",
    "print(l1)\n",
    "print(l2)"
   ]
  },
  {
   "cell_type": "code",
   "execution_count": 84,
   "id": "480581ab-b87f-4db6-b596-6dff5c7e17aa",
   "metadata": {},
   "outputs": [
    {
     "name": "stdout",
     "output_type": "stream",
     "text": [
      "[1, 2, 3, 4]\n",
      "['A', 'B', 'C', 'D', 1, 2, 3, 4]\n"
     ]
    }
   ],
   "source": [
    "l1=[1,2,3,4]\n",
    "l2=['A','B','C','D']\n",
    "l2.extend(l1)\n",
    "print(l1)\n",
    "print(l2)"
   ]
  },
  {
   "cell_type": "code",
   "execution_count": 86,
   "id": "3a34b039-eaa5-49a1-9e8e-a8e1391f050b",
   "metadata": {},
   "outputs": [
    {
     "name": "stdout",
     "output_type": "stream",
     "text": [
      "[1, 2, 3, 4, 'A', 'B', 'C', 'D']\n",
      "['A', 'B', 'C', 'D', 1, 2, 3, 4]\n",
      "[1, 2, 3, 4]\n",
      "['A', 'B', 'C', 'D']\n"
     ]
    }
   ],
   "source": [
    "l1=[1,2,3,4]\n",
    "l2=['A','B','C','D']\n",
    "print(l1+l2)\n",
    "print(l2+l1)\n",
    "print(l1)\n",
    "print(l2)"
   ]
  },
  {
   "cell_type": "code",
   "execution_count": 90,
   "id": "bf73d832-39bf-4b2c-8ad4-3a06ddfa597b",
   "metadata": {},
   "outputs": [
    {
     "data": {
      "text/plain": [
       "[1, 2, 3, 4, 'a', 'p', 'p', 'l', 'e']"
      ]
     },
     "execution_count": 90,
     "metadata": {},
     "output_type": "execute_result"
    }
   ],
   "source": [
    "l1=[1,2,3,4]\n",
    "l1.extend('apple')\n",
    "l1"
   ]
  },
  {
   "cell_type": "code",
   "execution_count": 92,
   "id": "c246cfc8-3efa-4c5f-b17f-0d7408a68443",
   "metadata": {},
   "outputs": [
    {
     "ename": "TypeError",
     "evalue": "list.extend() takes exactly one argument (3 given)",
     "output_type": "error",
     "traceback": [
      "\u001b[1;31m---------------------------------------------------------------------------\u001b[0m",
      "\u001b[1;31mTypeError\u001b[0m                                 Traceback (most recent call last)",
      "Cell \u001b[1;32mIn[92], line 2\u001b[0m\n\u001b[0;32m      1\u001b[0m l1\u001b[38;5;241m=\u001b[39m[\u001b[38;5;241m1\u001b[39m,\u001b[38;5;241m2\u001b[39m,\u001b[38;5;241m3\u001b[39m,\u001b[38;5;241m4\u001b[39m]\n\u001b[1;32m----> 2\u001b[0m l1\u001b[38;5;241m.\u001b[39mextend(\u001b[38;5;241m10\u001b[39m,\u001b[38;5;241m20\u001b[39m,\u001b[38;5;241m30\u001b[39m)\n\u001b[0;32m      3\u001b[0m l1\n",
      "\u001b[1;31mTypeError\u001b[0m: list.extend() takes exactly one argument (3 given)"
     ]
    }
   ],
   "source": [
    "l1=[1,2,3,4]\n",
    "l1.extend(10,20,30)\n",
    "l1"
   ]
  },
  {
   "cell_type": "markdown",
   "id": "0f266d0c-83c5-49b7-9042-3ce02af22f3b",
   "metadata": {},
   "source": [
    "- append just append the value with base data type\n",
    "\n",
    "- extend is concatenate the value, and the list will be overwrite with new values\n",
    "\n",
    "- extend can take any iterable format type i.e. strings,list,tuple\n",
    "\n",
    "- extend and concatenation both are same\n",
    "\n",
    "- the list will not overwrite in concatenation"
   ]
  },
  {
   "cell_type": "markdown",
   "id": "c4e0e006-296b-44a2-b15c-6c30bf33dc3c",
   "metadata": {},
   "source": [
    "**Index**\n",
    "\n",
    "  - index is same like string only"
   ]
  },
  {
   "cell_type": "code",
   "execution_count": 106,
   "id": "c7c6c557-2b68-473d-bdc1-f4afa5e963d8",
   "metadata": {},
   "outputs": [
    {
     "data": {
      "text/plain": [
       "(9, 11)"
      ]
     },
     "execution_count": 106,
     "metadata": {},
     "output_type": "execute_result"
    }
   ],
   "source": [
    "l1=[1,2,3,4,54,67,8,7,43,'Apple',40,'Apple']\n",
    "l1.index(2)\n",
    "i1=l1.index('Apple')\n",
    "i2=l1.index('Apple', i1+1)\n",
    "i1,i2"
   ]
  },
  {
   "cell_type": "markdown",
   "id": "3500d342-0707-4a72-a5e8-5dc2495412b9",
   "metadata": {},
   "source": [
    "- case-1: Directly get the index\n",
    "\n",
    "- case-2: next value index, by providing start value\n",
    "\n",
    "- case-3: Between the values"
   ]
  },
  {
   "cell_type": "code",
   "execution_count": 80,
   "id": "b225821e-834a-462e-95fe-0614747513fb",
   "metadata": {},
   "outputs": [
    {
     "data": {
      "text/plain": [
       "[1, 2, 3, 4, ['a', 'b', 'c'], 'a', 'b', 'c']"
      ]
     },
     "execution_count": 80,
     "metadata": {},
     "output_type": "execute_result"
    }
   ],
   "source": [
    "l1+l2"
   ]
  },
  {
   "cell_type": "code",
   "execution_count": null,
   "id": "20b4dad4-fc59-4ace-85d1-edb20a094e0c",
   "metadata": {},
   "outputs": [],
   "source": []
  },
  {
   "cell_type": "code",
   "execution_count": 39,
   "id": "4fed949f-6c54-4874-8aa1-7e0c9d503484",
   "metadata": {},
   "outputs": [
    {
     "name": "stdout",
     "output_type": "stream",
     "text": [
      "[1, 2, 3, 4]\n"
     ]
    }
   ],
   "source": [
    "#count\n",
    "l1=[1,2,3,4]\n",
    "l2=['a','b','c']\n",
    "l1.count(l2)\n",
    "print(l1)"
   ]
  },
  {
   "cell_type": "code",
   "execution_count": null,
   "id": "c16c4b34-389f-4328-bce1-64e28bb1f055",
   "metadata": {},
   "outputs": [],
   "source": []
  },
  {
   "cell_type": "code",
   "execution_count": 41,
   "id": "b8b474c8-ad96-41cb-993f-169723f7b87d",
   "metadata": {},
   "outputs": [
    {
     "name": "stdout",
     "output_type": "stream",
     "text": [
      "[1, 2, 3, 4]\n",
      "['a', 'b', 'c', 1, 2, 3, 4]\n"
     ]
    }
   ],
   "source": [
    "#extend\n",
    "l1=[1,2,3,4]\n",
    "l2=['a','b','c']\n",
    "l2.extend(l1)\n",
    "print(l1)\n",
    "print(l2)"
   ]
  },
  {
   "cell_type": "code",
   "execution_count": 1,
   "id": "80000eac-5e33-4de4-87ad-06e67bf14f58",
   "metadata": {},
   "outputs": [
    {
     "ename": "ValueError",
     "evalue": "1 is not in list",
     "output_type": "error",
     "traceback": [
      "\u001b[1;31m---------------------------------------------------------------------------\u001b[0m",
      "\u001b[1;31mValueError\u001b[0m                                Traceback (most recent call last)",
      "Cell \u001b[1;32mIn[1], line 4\u001b[0m\n\u001b[0;32m      2\u001b[0m l1\u001b[38;5;241m=\u001b[39m[\u001b[38;5;241m1\u001b[39m,\u001b[38;5;241m2\u001b[39m,\u001b[38;5;241m3\u001b[39m,\u001b[38;5;241m4\u001b[39m]\n\u001b[0;32m      3\u001b[0m l2\u001b[38;5;241m=\u001b[39m[\u001b[38;5;124m'\u001b[39m\u001b[38;5;124ma\u001b[39m\u001b[38;5;124m'\u001b[39m,\u001b[38;5;124m'\u001b[39m\u001b[38;5;124mb\u001b[39m\u001b[38;5;124m'\u001b[39m,\u001b[38;5;124m'\u001b[39m\u001b[38;5;124mc\u001b[39m\u001b[38;5;124m'\u001b[39m]\n\u001b[1;32m----> 4\u001b[0m l2\u001b[38;5;241m.\u001b[39mindex(\u001b[38;5;241m1\u001b[39m)\n\u001b[0;32m      5\u001b[0m \u001b[38;5;28mprint\u001b[39m(index[i])\n",
      "\u001b[1;31mValueError\u001b[0m: 1 is not in list"
     ]
    }
   ],
   "source": [
    "#index\n",
    "l1=[1,2,3,4]\n",
    "l2=['a','b','c']\n",
    "l2.index(1)\n",
    "print(index[i])"
   ]
  },
  {
   "cell_type": "code",
   "execution_count": 63,
   "id": "c8a2199e-2eaf-4a14-b68d-48ecbf847847",
   "metadata": {},
   "outputs": [
    {
     "ename": "ValueError",
     "evalue": "1 is not in list",
     "output_type": "error",
     "traceback": [
      "\u001b[1;31m---------------------------------------------------------------------------\u001b[0m",
      "\u001b[1;31mValueError\u001b[0m                                Traceback (most recent call last)",
      "Cell \u001b[1;32mIn[63], line 4\u001b[0m\n\u001b[0;32m      2\u001b[0m l1\u001b[38;5;241m=\u001b[39m[\u001b[38;5;241m1\u001b[39m,\u001b[38;5;241m2\u001b[39m,\u001b[38;5;241m3\u001b[39m,\u001b[38;5;241m4\u001b[39m]\n\u001b[0;32m      3\u001b[0m l2\u001b[38;5;241m=\u001b[39m[\u001b[38;5;124m'\u001b[39m\u001b[38;5;124ma\u001b[39m\u001b[38;5;124m'\u001b[39m,\u001b[38;5;124m'\u001b[39m\u001b[38;5;124mb\u001b[39m\u001b[38;5;124m'\u001b[39m,\u001b[38;5;124m'\u001b[39m\u001b[38;5;124mc\u001b[39m\u001b[38;5;124m'\u001b[39m]\n\u001b[1;32m----> 4\u001b[0m l2\u001b[38;5;241m.\u001b[39mindex(\u001b[38;5;241m1\u001b[39m)\n\u001b[0;32m      5\u001b[0m \u001b[38;5;28mprint\u001b[39m(l1)\n",
      "\u001b[1;31mValueError\u001b[0m: 1 is not in list"
     ]
    }
   ],
   "source": [
    "#insert\n",
    "l1=[1,2,3,4]\n",
    "l2=['a','b','c']\n",
    "l2.index(1)\n",
    "print(l1)"
   ]
  },
  {
   "cell_type": "markdown",
   "id": "fad18d82-120e-4110-be2d-341393865e3c",
   "metadata": {},
   "source": [
    "**Insert**"
   ]
  },
  {
   "cell_type": "code",
   "execution_count": 3,
   "id": "40aa9451-e0da-456a-91b4-0cb8a2f405f6",
   "metadata": {},
   "outputs": [
    {
     "data": {
      "text/plain": [
       "[1, 2, 3, 'Banana', 'Apple', 10, 20, 'Apple', 40]"
      ]
     },
     "execution_count": 3,
     "metadata": {},
     "output_type": "execute_result"
    }
   ],
   "source": [
    "l1=[1,2,3,'Apple',10,20,'Apple',40]\n",
    "il=l1.index('Apple') # apple index = 3\n",
    "l1.insert(il,'Banana') # insert banana before index il(3)\n",
    "l1"
   ]
  },
  {
   "cell_type": "code",
   "execution_count": 5,
   "id": "843a259e-3279-4c9f-9131-66051867083a",
   "metadata": {},
   "outputs": [
    {
     "data": {
      "text/plain": [
       "[1, 2, 3, 'Apple', 10, 20, 'Apple', 'cherry', 40]"
      ]
     },
     "execution_count": 5,
     "metadata": {},
     "output_type": "execute_result"
    }
   ],
   "source": [
    "l1=[1,2,3,'Apple',10,20,'Apple',40]\n",
    "# insert 'cherry' before 40\n",
    "# you need to find index of the 40\n",
    "il=l1.index(40)\n",
    "l1.insert(il,'cherry') \n",
    "l1"
   ]
  },
  {
   "cell_type": "code",
   "execution_count": 39,
   "id": "1c49bbfc-280b-4572-b704-ef9d24321aae",
   "metadata": {},
   "outputs": [
    {
     "data": {
      "text/plain": [
       "[1, 2, 3, 'Apple', 10, 20, 'cherry', 'Apple', 40]"
      ]
     },
     "execution_count": 39,
     "metadata": {},
     "output_type": "execute_result"
    }
   ],
   "source": [
    "# if we wnat to add cherry before 2nd apple then how?\n",
    "l1=[1,2,3,'Apple', 10,20,'Apple',40]\n",
    "# step-1: we wnat to find the index of 2nd 'Apple'\n",
    "# step-2: how to find the second 'Apple' index\n",
    "i1=l1.index('Apple')\n",
    "i2=l1.index('Apple',i1+1)\n",
    "l1.insert(6,'cherry')\n",
    "l1"
   ]
  },
  {
   "cell_type": "code",
   "execution_count": null,
   "id": "189d17ad-09b6-41f1-a877-22ad7101a098",
   "metadata": {},
   "outputs": [],
   "source": [
    "'clear',\n",
    " 'copy',\n",
    " 'count',\n",
    " 'extend',\n",
    " 'index',\n",
    " 'insert',\n",
    " 'pop',\n",
    " 'remove',\n",
    " 'reverse',\n",
    " 'sort'"
   ]
  },
  {
   "cell_type": "markdown",
   "id": "dba59fb1-c8d3-4181-9897-4e3dc3a8a8fc",
   "metadata": {},
   "source": [
    "**pop-remove-del**\n",
    "\n",
    "- pop will remove the item\n",
    "\n",
    "- pop also display the item which is removig\n",
    "\n",
    "- pop will take one arguments: index\n",
    "\n",
    "- pop will remove the item based on index\n",
    "\n",
    "- if you dont provide any index, by default it will remove last value\n",
    "\n",
    "- because the default index value is -1"
   ]
  },
  {
   "cell_type": "code",
   "execution_count": 71,
   "id": "0d7c1d18-2315-42e3-9441-55538110ca83",
   "metadata": {},
   "outputs": [
    {
     "data": {
      "text/plain": [
       "[1, 2, 3, 10, 20, 'Apple', 40]"
      ]
     },
     "execution_count": 71,
     "metadata": {},
     "output_type": "execute_result"
    }
   ],
   "source": [
    "# we are concentrating oly on first apple\n",
    "l1=[1,2,3,'Apple',10,20,'Apple',40]\n",
    "il=l1.index('Apple')\n",
    "l1.pop(i1)\n",
    "l1"
   ]
  },
  {
   "cell_type": "code",
   "execution_count": 73,
   "id": "fb4b32a6-3720-47ae-a92d-0ed600a2ed87",
   "metadata": {},
   "outputs": [
    {
     "data": {
      "text/plain": [
       "[1, 2, 3, 'Apple', 10, 20, 40]"
      ]
     },
     "execution_count": 73,
     "metadata": {},
     "output_type": "execute_result"
    }
   ],
   "source": [
    "# we are concentrating on second apple\n",
    "l1=[1,2,3,'Apple',10,20,'Apple',40]\n",
    "il=l1.index('Apple')\n",
    "i2=l1.index('Apple',il+1)\n",
    "l1.pop(i2)\n",
    "l1"
   ]
  },
  {
   "cell_type": "code",
   "execution_count": 85,
   "id": "e7e0cfbb-cdb9-43b3-9339-0f7691a4349d",
   "metadata": {},
   "outputs": [
    {
     "data": {
      "text/plain": [
       "[1, 2, 3, 10, 20, 40]"
      ]
     },
     "execution_count": 85,
     "metadata": {},
     "output_type": "execute_result"
    }
   ],
   "source": [
    "# here we are concentrating on two apples\n",
    "l1=[1,2,3,'Apple',10,20,'Apple',40]\n",
    "il=l1.index('Apple')\n",
    "l1.pop(i1)  # o/p: [1,2,3,10,20,'Apple',40]\n",
    "################################################\n",
    "i1=l1.index('Apple')\n",
    "l1.pop(i1)\n",
    "l1"
   ]
  },
  {
   "cell_type": "code",
   "execution_count": 119,
   "id": "2b3f6ee1-60d4-48a9-8867-f2c4fd7fc998",
   "metadata": {},
   "outputs": [
    {
     "data": {
      "text/plain": [
       "'hai how are you im good thank you'"
      ]
     },
     "execution_count": 119,
     "metadata": {},
     "output_type": "execute_result"
    }
   ],
   "source": [
    "str='hai apple how are you im good apple thank you apple'\n",
    "# o/p: 'hai how are you im good thank you'\n",
    "# step-1: split\n",
    "# iterate it\n",
    "# pop it\n",
    "# join it\n",
    "l1=str.split()\n",
    "count=l1.count('apple')\n",
    "for i in range(count):\n",
    "    i1=l1.index('apple')\n",
    "    l1.pop(i1)\n",
    "' '.join(l1)"
   ]
  },
  {
   "cell_type": "markdown",
   "id": "b2ce59a8-3e06-4b51-bc91-feddc0a697a5",
   "metadata": {},
   "source": [
    "- pop will take the index\n",
    "\n",
    "- remove will take the value\n",
    "\n",
    "- remove will delete the first occurence of elements"
   ]
  },
  {
   "cell_type": "code",
   "execution_count": 122,
   "id": "b60eef21-e8a8-48b1-895b-d17b6af2412c",
   "metadata": {},
   "outputs": [
    {
     "data": {
      "text/plain": [
       "[1, 2, 3, 10, 20, 'Apple', 40]"
      ]
     },
     "execution_count": 122,
     "metadata": {},
     "output_type": "execute_result"
    }
   ],
   "source": [
    "l1=[1,2,3,'Apple',10,20,'Apple',40]\n",
    "l1.remove('Apple')\n",
    "l1"
   ]
  },
  {
   "cell_type": "code",
   "execution_count": 124,
   "id": "d333941f-caa3-407a-a045-59a3fac8b626",
   "metadata": {},
   "outputs": [
    {
     "data": {
      "text/plain": [
       "'hai how are you im good thank you'"
      ]
     },
     "execution_count": 124,
     "metadata": {},
     "output_type": "execute_result"
    }
   ],
   "source": [
    "str='hai apple how are you im good apple thank you apple'\n",
    "l1=str.split()\n",
    "count=l1.count('apple')\n",
    "for i in range(count):\n",
    "    l1.remove('apple')\n",
    "' '.join(l1)"
   ]
  },
  {
   "cell_type": "markdown",
   "id": "5659364e-f051-445e-a84e-38075a207030",
   "metadata": {},
   "source": [
    "**del**"
   ]
  },
  {
   "cell_type": "markdown",
   "id": "b448bcc8-03c0-4d93-acfb-1f5ac9234d8b",
   "metadata": {},
   "source": [
    "- del is a keyword"
   ]
  },
  {
   "cell_type": "code",
   "execution_count": 128,
   "id": "fe408420-6069-4291-b7cf-5f7707c735aa",
   "metadata": {},
   "outputs": [
    {
     "data": {
      "text/plain": [
       "[1, 2, 3, 10, 20, 'Apple', 40]"
      ]
     },
     "execution_count": 128,
     "metadata": {},
     "output_type": "execute_result"
    }
   ],
   "source": [
    "l1=[1,2,3,'Apple',10,20,'Apple',40]\n",
    "del(l1[3])\n",
    "l1"
   ]
  },
  {
   "cell_type": "markdown",
   "id": "af5e5564-db60-482c-b81b-d48ae4e3061b",
   "metadata": {},
   "source": [
    "- append/extend/insert/concatenation\n",
    "\n",
    "- pop/remove/del\n",
    "\n",
    "- sort/sorted\n",
    "\n",
    "- reverse/reversed\n",
    "\n",
    "- count and index"
   ]
  },
  {
   "cell_type": "code",
   "execution_count": 131,
   "id": "c57d2f4d-99ef-4598-943c-34c2916bb363",
   "metadata": {},
   "outputs": [
    {
     "data": {
      "text/plain": [
       "['__add__',\n",
       " '__class__',\n",
       " '__class_getitem__',\n",
       " '__contains__',\n",
       " '__delattr__',\n",
       " '__dir__',\n",
       " '__doc__',\n",
       " '__eq__',\n",
       " '__format__',\n",
       " '__ge__',\n",
       " '__getattribute__',\n",
       " '__getitem__',\n",
       " '__getnewargs__',\n",
       " '__getstate__',\n",
       " '__gt__',\n",
       " '__hash__',\n",
       " '__init__',\n",
       " '__init_subclass__',\n",
       " '__iter__',\n",
       " '__le__',\n",
       " '__len__',\n",
       " '__lt__',\n",
       " '__mul__',\n",
       " '__ne__',\n",
       " '__new__',\n",
       " '__reduce__',\n",
       " '__reduce_ex__',\n",
       " '__repr__',\n",
       " '__rmul__',\n",
       " '__setattr__',\n",
       " '__sizeof__',\n",
       " '__str__',\n",
       " '__subclasshook__',\n",
       " 'count',\n",
       " 'index']"
      ]
     },
     "execution_count": 131,
     "metadata": {},
     "output_type": "execute_result"
    }
   ],
   "source": [
    "dir(())"
   ]
  },
  {
   "cell_type": "code",
   "execution_count": null,
   "id": "d0a596a9-177f-4aa3-8b79-68da263b10e6",
   "metadata": {},
   "outputs": [],
   "source": []
  }
 ],
 "metadata": {
  "kernelspec": {
   "display_name": "Python 3 (ipykernel)",
   "language": "python",
   "name": "python3"
  },
  "language_info": {
   "codemirror_mode": {
    "name": "ipython",
    "version": 3
   },
   "file_extension": ".py",
   "mimetype": "text/x-python",
   "name": "python",
   "nbconvert_exporter": "python",
   "pygments_lexer": "ipython3",
   "version": "3.11.7"
  }
 },
 "nbformat": 4,
 "nbformat_minor": 5
}
