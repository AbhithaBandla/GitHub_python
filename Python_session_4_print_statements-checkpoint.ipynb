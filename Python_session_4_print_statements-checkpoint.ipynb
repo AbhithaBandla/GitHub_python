{
 "cells": [
  {
   "cell_type": "code",
   "execution_count": 1,
   "id": "939cf740-cc1f-40cf-976b-4b3fd5e36b45",
   "metadata": {},
   "outputs": [
    {
     "name": "stdout",
     "output_type": "stream",
     "text": [
      "10\n"
     ]
    }
   ],
   "source": [
    "print(10)"
   ]
  },
  {
   "cell_type": "code",
   "execution_count": 3,
   "id": "fa51c517-8f67-4e52-8f8c-9241e44d03e4",
   "metadata": {},
   "outputs": [
    {
     "name": "stdout",
     "output_type": "stream",
     "text": [
      "python\n"
     ]
    }
   ],
   "source": [
    "print('python')"
   ]
  },
  {
   "cell_type": "code",
   "execution_count": 1,
   "id": "20433de2-acd9-451e-9def-916dcac7684c",
   "metadata": {},
   "outputs": [
    {
     "data": {
      "text/plain": [
       "'Hi, Im Abhitha'"
      ]
     },
     "execution_count": 1,
     "metadata": {},
     "output_type": "execute_result"
    }
   ],
   "source": [
    "n='Hi, Im Abhitha'\n",
    "n"
   ]
  },
  {
   "cell_type": "code",
   "execution_count": 7,
   "id": "a14753a4-da70-485b-840e-76aa997c1925",
   "metadata": {},
   "outputs": [
    {
     "name": "stdout",
     "output_type": "stream",
     "text": [
      "10 10.5 naresh IT True\n"
     ]
    }
   ],
   "source": [
    "print(10,10.5,'naresh IT',True)"
   ]
  },
  {
   "cell_type": "code",
   "execution_count": 9,
   "id": "6755af7a-c735-44c3-b4f7-7425f187356d",
   "metadata": {},
   "outputs": [
    {
     "name": "stdout",
     "output_type": "stream",
     "text": [
      "10\n",
      "20\n"
     ]
    }
   ],
   "source": [
    "n1=10\n",
    "n2=20\n",
    "print(n1)\n",
    "print(n2)"
   ]
  },
  {
   "cell_type": "code",
   "execution_count": 11,
   "id": "aee726d7-8ba5-4345-b1bb-71cf25dd1626",
   "metadata": {},
   "outputs": [
    {
     "name": "stdout",
     "output_type": "stream",
     "text": [
      "10 20 30\n",
      "10 20\n",
      "10\n"
     ]
    }
   ],
   "source": [
    "print(10,20,30)\n",
    "print(10,20)\n",
    "print(10)"
   ]
  },
  {
   "cell_type": "code",
   "execution_count": 13,
   "id": "2de46b9a-5b6e-4ddc-8795-328ea1e795a8",
   "metadata": {},
   "outputs": [
    {
     "name": "stdout",
     "output_type": "stream",
     "text": [
      "10\n",
      "20\n"
     ]
    },
    {
     "data": {
      "text/plain": [
       "(None, None)"
      ]
     },
     "execution_count": 13,
     "metadata": {},
     "output_type": "execute_result"
    }
   ],
   "source": [
    "print(10),print(20)"
   ]
  },
  {
   "cell_type": "markdown",
   "id": "05b0088b-3f34-4b72-b5e6-85ca7ccbbc5c",
   "metadata": {},
   "source": [
    "**Format method**"
   ]
  },
  {
   "cell_type": "code",
   "execution_count": 18,
   "id": "138b6254-a60d-455d-95a9-2e8b2ca2d970",
   "metadata": {},
   "outputs": [
    {
     "name": "stdout",
     "output_type": "stream",
     "text": [
      "the addition of 100 and 200 is 300\n"
     ]
    }
   ],
   "source": [
    "a=100\n",
    "b=200\n",
    "c=a+b\n",
    "print(\"the addition of\",a,\"and\",b,\"is\",c)"
   ]
  },
  {
   "cell_type": "code",
   "execution_count": 30,
   "id": "800ddad8-4855-46a9-a8d1-3325e4ab1027",
   "metadata": {},
   "outputs": [
    {
     "name": "stdout",
     "output_type": "stream",
     "text": [
      "My name is python, Im 20 years old, Im fron hyd\n"
     ]
    }
   ],
   "source": [
    "n1='python'\n",
    "n2=20\n",
    "n3='hyd'\n",
    "print(\"My name is {}, Im {} years old, Im fron {}\". format(n1,n2,n3))"
   ]
  },
  {
   "cell_type": "code",
   "execution_count": 36,
   "id": "47ece542-2145-45bf-b20e-7df0947920ef",
   "metadata": {},
   "outputs": [
    {
     "name": "stdout",
     "output_type": "stream",
     "text": [
      "Im abhitha, My role is data scientist, Im working in cognizant company\n"
     ]
    }
   ],
   "source": [
    "emp_name='abhitha'\n",
    "emp_role='data scientist'\n",
    "emp_company='cognizant'\n",
    "print(\"Im {}, My role is {}, Im working in {} company\". format(emp_name,emp_role,emp_company))\n"
   ]
  },
  {
   "cell_type": "markdown",
   "id": "e5b7de0a-3104-47c9-a7ed-55b825e0804a",
   "metadata": {},
   "source": [
    "**f string method**"
   ]
  },
  {
   "cell_type": "code",
   "execution_count": 41,
   "id": "26bd20d0-296f-4918-91d9-b610f65292b9",
   "metadata": {},
   "outputs": [
    {
     "name": "stdout",
     "output_type": "stream",
     "text": [
      "The addition of 100 and 200 is 300\n"
     ]
    }
   ],
   "source": [
    "a=100\n",
    "b=200\n",
    "c=a+b\n",
    "print(f\"The addition of {a} and {b} is {c}\")"
   ]
  },
  {
   "cell_type": "code",
   "execution_count": 43,
   "id": "83d002e4-57b2-4eed-84e8-e0543c46b367",
   "metadata": {},
   "outputs": [
    {
     "name": "stdout",
     "output_type": "stream",
     "text": [
      "Im python,Im 20 years old, Im from city\n"
     ]
    }
   ],
   "source": [
    "n1='python'\n",
    "n2='20'\n",
    "n3='city'\n",
    "print(f\"Im {n1},Im {n2} years old, Im from {n3}\")"
   ]
  },
  {
   "cell_type": "code",
   "execution_count": 9,
   "id": "94c40e7e-35ef-4a0d-ac51-f5f85ac5c779",
   "metadata": {},
   "outputs": [
    {
     "name": "stdout",
     "output_type": "stream",
     "text": [
      "The average of 100 and 200 is 150.0\n"
     ]
    }
   ],
   "source": [
    "num1=100\n",
    "num2=200\n",
    "average=(num1+num2)/2\n",
    "print(f\"The average of {num1} and {num2} is {average}\".format(num1,num2,average))"
   ]
  },
  {
   "cell_type": "code",
   "execution_count": 28,
   "id": "4be13e1b-db14-4401-9c49-3c7adc36b74e",
   "metadata": {},
   "outputs": [
    {
     "name": "stdout",
     "output_type": "stream",
     "text": [
      "The area of the circle is:314.0\n",
      "The area of the circle is:314.0\n"
     ]
    }
   ],
   "source": [
    "#radius of the circle\n",
    "#take the pi value=3.14\n",
    "#find the area of the circle = pi*r*r\n",
    "radius=10\n",
    "pi_value=3.14\n",
    "area=pi_value*radius*radius\n",
    "print(\"The area of the circle is:{}\".format(area))\n",
    "print(f\"The area of the circle is:{area}\")\n",
    "\n"
   ]
  },
  {
   "cell_type": "code",
   "execution_count": 26,
   "id": "2838d645-2dd9-4a20-99a6-82adaf7b989b",
   "metadata": {},
   "outputs": [
    {
     "name": "stdout",
     "output_type": "stream",
     "text": [
      "The area of the triangle is 100.0\n",
      "The area of the triangle is: 100.0\n"
     ]
    }
   ],
   "source": [
    "#take the breadth(base) of the triangle\n",
    "#take the height of the triangle\n",
    "#area of the triangle-1/2*base*height\n",
    "base=10\n",
    "height=20\n",
    "area=1/2*base*height\n",
    "print(\"The area of the triangle is {}\".format(area))\n",
    "print(f\"The area of the triangle is: {area}\")"
   ]
  },
  {
   "cell_type": "code",
   "execution_count": 42,
   "id": "4e515574-22c2-464d-996e-043f8ade1585",
   "metadata": {},
   "outputs": [
    {
     "name": "stdout",
     "output_type": "stream",
     "text": [
      "The total bill is:1100.0\n"
     ]
    }
   ],
   "source": [
    "#take the bill amount\n",
    "#take the tip percentage\n",
    "#calculate tip amount\n",
    "#calculate the total bill  10/100*(1000)\n",
    "#print the total bill\n",
    "bill_amount=1000\n",
    "tip_percentage=10\n",
    "tip_amount=bill_amount*tip_percentage/100\n",
    "total_bill=tip_amount+bill_amount\n",
    "print(f\"The total bill is:{total_bill}\")"
   ]
  },
  {
   "cell_type": "markdown",
   "id": "287fd6e0-4e23-4d3c-940f-a264423c6fb8",
   "metadata": {},
   "source": [
    "**End Operator**"
   ]
  },
  {
   "cell_type": "markdown",
   "id": "7ada8288-44ef-4cd4-a03d-39a03e12b5d3",
   "metadata": {},
   "source": [
    "- combining multiple statements in a single line "
   ]
  },
  {
   "cell_type": "code",
   "execution_count": 45,
   "id": "baa38217-3530-4815-92ea-55abc327e972",
   "metadata": {},
   "outputs": [
    {
     "name": "stdout",
     "output_type": "stream",
     "text": [
      "10 20\n"
     ]
    }
   ],
   "source": [
    "print(10,end=' ')\n",
    "print(20)"
   ]
  },
  {
   "cell_type": "code",
   "execution_count": 52,
   "id": "a321929b-0e22-466e-a5dd-244f33211449",
   "metadata": {},
   "outputs": [
    {
     "name": "stdout",
     "output_type": "stream",
     "text": [
      "10 20 30\n"
     ]
    }
   ],
   "source": [
    "print(10,end=' ')\n",
    "print(20,end=' ' )\n",
    "print(30)"
   ]
  },
  {
   "cell_type": "markdown",
   "id": "3ab79de0-b78a-4826-b4f9-5ea9aea8bec1",
   "metadata": {},
   "source": [
    "**separator operator**"
   ]
  },
  {
   "cell_type": "markdown",
   "id": "b955ce28-52c6-413e-a893-ce43be1a9231",
   "metadata": {},
   "source": [
    "- separate the multiple values in a single print statement"
   ]
  },
  {
   "cell_type": "code",
   "execution_count": 57,
   "id": "ab76614e-6465-46ce-9824-6da5d56440d9",
   "metadata": {},
   "outputs": [
    {
     "name": "stdout",
     "output_type": "stream",
     "text": [
      "10&20&30\n"
     ]
    }
   ],
   "source": [
    "print(10,20,30,sep='&')\n"
   ]
  },
  {
   "cell_type": "code",
   "execution_count": 59,
   "id": "0f0aaf8f-b34c-404d-a342-d2808d7d580e",
   "metadata": {},
   "outputs": [
    {
     "name": "stdout",
     "output_type": "stream",
     "text": [
      "10$20$30\n"
     ]
    }
   ],
   "source": [
    "print(10,20,30,sep='$')"
   ]
  },
  {
   "cell_type": "code",
   "execution_count": 61,
   "id": "a4beb1c0-d9b7-472d-b456-3ad624992173",
   "metadata": {},
   "outputs": [
    {
     "name": "stdout",
     "output_type": "stream",
     "text": [
      "the addition of 5 and 3 is 8.\n"
     ]
    }
   ],
   "source": [
    "print(\"the addition of {} and {} is {}.\".format(5,3,5+3))"
   ]
  },
  {
   "cell_type": "code",
   "execution_count": 63,
   "id": "eae59ba1-1345-41b4-9c9e-50d9dd7be53f",
   "metadata": {},
   "outputs": [
    {
     "name": "stdout",
     "output_type": "stream",
     "text": [
      "The addition of 5 and 3 is 8 .\n"
     ]
    }
   ],
   "source": [
    "print(\"The addition of 5 and 3 is 8\",'.')"
   ]
  },
  {
   "cell_type": "code",
   "execution_count": 69,
   "id": "074690c1-0c10-48a1-8552-c526e35c71e9",
   "metadata": {},
   "outputs": [
    {
     "name": "stdout",
     "output_type": "stream",
     "text": [
      "The addition of 5 and 3 is 8..\n"
     ]
    }
   ],
   "source": [
    "print(\"The addition of 5 and 3 is 8\",'.',sep='')"
   ]
  },
  {
   "cell_type": "code",
   "execution_count": null,
   "id": "c2664f62-9202-4465-9f07-b2aa4b7c2947",
   "metadata": {},
   "outputs": [],
   "source": []
  }
 ],
 "metadata": {
  "kernelspec": {
   "display_name": "Python 3 (ipykernel)",
   "language": "python",
   "name": "python3"
  },
  "language_info": {
   "codemirror_mode": {
    "name": "ipython",
    "version": 3
   },
   "file_extension": ".py",
   "mimetype": "text/x-python",
   "name": "python",
   "nbconvert_exporter": "python",
   "pygments_lexer": "ipython3",
   "version": "3.11.7"
  }
 },
 "nbformat": 4,
 "nbformat_minor": 5
}
