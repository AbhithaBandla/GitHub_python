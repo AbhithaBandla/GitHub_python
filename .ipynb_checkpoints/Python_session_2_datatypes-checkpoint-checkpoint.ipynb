{
 "cells": [
  {
   "cell_type": "code",
   "execution_count": 1,
   "id": "4d75ba5e-7032-4039-b1fb-71085630dd5e",
   "metadata": {},
   "outputs": [
    {
     "name": "stdout",
     "output_type": "stream",
     "text": [
      "30\n"
     ]
    }
   ],
   "source": [
    "a=10\n",
    "b=20\n",
    "c=a+b\n",
    "print(c)"
   ]
  },
  {
   "cell_type": "markdown",
   "id": "f406d156-c99b-426e-a243-acdd97bdd7db",
   "metadata": {},
   "source": [
    "**Data Types**\n",
    "\n",
    "- Data types are used to define the type of a variable.\n",
    "\n",
    "- It defines what type of data we are going to store in a variable\n",
    "\n",
    "- In python type declare not required\n",
    "\n",
    "- python will automatically takes the type based on provided value\n",
    "\n",
    "- we have many data types available\n",
    "\n",
    "- The main data types are\n",
    "    \n",
    "    - integer\n",
    "    \n",
    "    - float\n",
    "    \n",
    "    - Boolean\n",
    "    \n",
    "    - String\n",
    "\n",
    "\n",
    "- List\n",
    "\n",
    "- Dictionary\n",
    "\n",
    "- tuple\n",
    "\n",
    "- complex"
   ]
  },
  {
   "cell_type": "code",
   "execution_count": 2,
   "id": "85bc596d-7484-4620-8f77-8eb266bff2c5",
   "metadata": {},
   "outputs": [
    {
     "data": {
      "text/plain": [
       "int"
      ]
     },
     "execution_count": 2,
     "metadata": {},
     "output_type": "execute_result"
    }
   ],
   "source": [
    "n=100\n",
    "type(n)"
   ]
  },
  {
   "cell_type": "markdown",
   "id": "b7fd396c-ae03-4d3b-bfdb-99de24c672b1",
   "metadata": {},
   "source": [
    "## int\n",
    "\n",
    "- binary representation\n",
    "\n",
    "- octa representation\n",
    "\n",
    "- hexa representation\n",
    "\n",
    "- decimal representation"
   ]
  },
  {
   "cell_type": "markdown",
   "id": "6a61e9e4-996b-44f4-a61d-c3549efe6749",
   "metadata": {},
   "source": [
    "#Binary representation\n",
    "\n",
    "- bi means 2\n",
    "  \n",
    "- so it requires 2 digits\n",
    "\n",
    "- generally we have 0 1 2 3 4 5 6 7 8 9 \n",
    "\n",
    "- so it will represent with 0 and 1 only\n",
    "\n",
    "- representation is 0b10 # we can also use B also\n",
    "\n",
    "- correct representation is 0b11\n",
    "\n",
    "- wrong representation is 0b102,0b103"
   ]
  },
  {
   "cell_type": "code",
   "execution_count": 4,
   "id": "2460eaf5-3a8e-49bb-a029-797bede5836b",
   "metadata": {},
   "outputs": [
    {
     "data": {
      "text/plain": [
       "3"
      ]
     },
     "execution_count": 4,
     "metadata": {},
     "output_type": "execute_result"
    }
   ],
   "source": [
    "0b0011"
   ]
  },
  {
   "cell_type": "code",
   "execution_count": 1,
   "id": "2e51fb6e-6001-4e50-a485-2527ff1f11c1",
   "metadata": {},
   "outputs": [
    {
     "data": {
      "text/plain": [
       "31"
      ]
     },
     "execution_count": 1,
     "metadata": {},
     "output_type": "execute_result"
    }
   ],
   "source": [
    "0b11111"
   ]
  },
  {
   "cell_type": "code",
   "execution_count": 3,
   "id": "fdda4122-7b5b-40d8-baf8-4d5626d6c95f",
   "metadata": {},
   "outputs": [
    {
     "data": {
      "text/plain": [
       "43577"
      ]
     },
     "execution_count": 3,
     "metadata": {},
     "output_type": "execute_result"
    }
   ],
   "source": [
    "0b1010101000111001"
   ]
  },
  {
   "cell_type": "code",
   "execution_count": 12,
   "id": "4507fa95-60e8-4d22-b019-8b36693308dc",
   "metadata": {},
   "outputs": [
    {
     "data": {
      "text/plain": [
       "79"
      ]
     },
     "execution_count": 12,
     "metadata": {},
     "output_type": "execute_result"
    }
   ],
   "source": [
    "0b1001111"
   ]
  },
  {
   "cell_type": "code",
   "execution_count": 7,
   "id": "ba14c0ec-682a-43d9-bdfb-e7b0e4f0c6cc",
   "metadata": {},
   "outputs": [
    {
     "data": {
      "text/plain": [
       "tuple"
      ]
     },
     "execution_count": 7,
     "metadata": {},
     "output_type": "execute_result"
    }
   ],
   "source": [
    "n=(1,2,3)\n",
    "type(n)"
   ]
  },
  {
   "cell_type": "code",
   "execution_count": 5,
   "id": "8e269df7-112b-4a52-b2c3-fc7a42e1678d",
   "metadata": {},
   "outputs": [],
   "source": [
    "# if we forget where our file is located then we have to follow the below steps\n",
    "import os"
   ]
  },
  {
   "cell_type": "code",
   "execution_count": 3,
   "id": "1055a9ac-5a2d-4ce9-9278-eaba5117c32f",
   "metadata": {},
   "outputs": [
    {
     "data": {
      "text/plain": [
       "'C:\\\\Users\\\\DELL\\\\Documents'"
      ]
     },
     "execution_count": 3,
     "metadata": {},
     "output_type": "execute_result"
    }
   ],
   "source": [
    "os.getcwd()\n",
    "# get current working directory\n",
    "# it will give the path\n",
    "# where our python file located"
   ]
  },
  {
   "cell_type": "code",
   "execution_count": 7,
   "id": "ff6632e5-d7ab-4341-87ac-f17bca967a27",
   "metadata": {},
   "outputs": [
    {
     "data": {
      "text/plain": [
       "15"
      ]
     },
     "execution_count": 7,
     "metadata": {},
     "output_type": "execute_result"
    }
   ],
   "source": [
    "0b1111\n"
   ]
  },
  {
   "cell_type": "code",
   "execution_count": null,
   "id": "5a0a5a42-aa97-44c2-96d1-63819fb074d8",
   "metadata": {},
   "outputs": [],
   "source": [
    "8 4 2 1  num\n",
    "0 0 0 0   0\n",
    "0 0 0 1   1\n",
    "0 0 1 0   2\n",
    "0 0 1 1   3\n",
    "0 1 0 0   4\n",
    "0 1 0 1   5\n",
    "0 1 1 0   6\n",
    "0 1 1 1   7\n",
    "1 0 0 0   8\n",
    "1 0 0 1   9\n",
    "1 0 1 0   10\n",
    "1 0 1 1   11\n",
    "1 1 0 0   12\n",
    "1 1 0 1   13\n",
    "1 1 1 0   14\n",
    "1 1 1 1   15\n"
   ]
  },
  {
   "cell_type": "code",
   "execution_count": 9,
   "id": "4140831f-9971-4260-8eb8-97e714d20fd5",
   "metadata": {},
   "outputs": [
    {
     "data": {
      "text/plain": [
       "29"
      ]
     },
     "execution_count": 9,
     "metadata": {},
     "output_type": "execute_result"
    }
   ],
   "source": [
    "0b11101"
   ]
  },
  {
   "cell_type": "code",
   "execution_count": 11,
   "id": "a7847502-7712-49ab-a7dd-c456a2e9340a",
   "metadata": {},
   "outputs": [
    {
     "data": {
      "text/plain": [
       "59"
      ]
     },
     "execution_count": 11,
     "metadata": {},
     "output_type": "execute_result"
    }
   ],
   "source": [
    "0b111011"
   ]
  },
  {
   "cell_type": "markdown",
   "id": "f09f05bc-9cb7-4fcd-97b6-4a8f4f2a1450",
   "metadata": {},
   "source": [
    "*Octa representation\n",
    "\n",
    "- octa means 8\n",
    "\n",
    "- we require 8 digits\n",
    "\n",
    "- Generally we have 0 1 2 3 4 5 6 7 8 9\n",
    "\n",
    "- so it will represent with only 0 1 2 3 4 5 6 7\n",
    "\n",
    "- representation is 0o1011,0o110,0o75423\n",
    "\n",
    "- wrong representation is 0o9812,0o1290"
   ]
  },
  {
   "cell_type": "code",
   "execution_count": 13,
   "id": "f255804f-0e84-4323-90cd-bb0f6c9e697b",
   "metadata": {},
   "outputs": [
    {
     "data": {
      "text/plain": [
       "83"
      ]
     },
     "execution_count": 13,
     "metadata": {},
     "output_type": "execute_result"
    }
   ],
   "source": [
    "0o123"
   ]
  },
  {
   "cell_type": "code",
   "execution_count": 87,
   "id": "df9bc50a-4fce-40a5-ad4b-a570d132a3bd",
   "metadata": {},
   "outputs": [
    {
     "data": {
      "text/plain": [
       "31507"
      ]
     },
     "execution_count": 87,
     "metadata": {},
     "output_type": "execute_result"
    }
   ],
   "source": [
    "0o75423"
   ]
  },
  {
   "cell_type": "markdown",
   "id": "605d6e65-4aa1-41ec-9fa0-734574ee19c8",
   "metadata": {},
   "source": [
    "*hexa\n",
    "- hexa means 16\n",
    "- so it requires 16 digits\n",
    "- Generally we have 0 1 2 3 4 5 6 7 8 9 A(10) B(11) C(12) D(13) E(14) F(15) \n",
    "- So it will represent it with only 0-9 A-F\n",
    "- representation is 0xF9,0X0123ABC,0Xabc\n",
    "- wrong representation is 0xGH,0x12HIK"
   ]
  },
  {
   "cell_type": "code",
   "execution_count": 18,
   "id": "98787487-f5f4-44a5-b59f-7d56779d83a5",
   "metadata": {},
   "outputs": [
    {
     "data": {
      "text/plain": [
       "2748"
      ]
     },
     "execution_count": 18,
     "metadata": {},
     "output_type": "execute_result"
    }
   ],
   "source": [
    "0xabc"
   ]
  },
  {
   "cell_type": "code",
   "execution_count": 22,
   "id": "4c7985cf-dfbb-4c76-ba8d-ae8d9ba025da",
   "metadata": {},
   "outputs": [
    {
     "data": {
      "text/plain": [
       "4671"
      ]
     },
     "execution_count": 22,
     "metadata": {},
     "output_type": "execute_result"
    }
   ],
   "source": [
    "0x123f"
   ]
  },
  {
   "cell_type": "markdown",
   "id": "9c8ebd3f-4bb4-496f-950c-bc818686d165",
   "metadata": {},
   "source": [
    "**Float**"
   ]
  },
  {
   "cell_type": "code",
   "execution_count": 28,
   "id": "84302035-2c43-4d5f-9c40-59b713865875",
   "metadata": {},
   "outputs": [
    {
     "data": {
      "text/plain": [
       "float"
      ]
     },
     "execution_count": 28,
     "metadata": {},
     "output_type": "execute_result"
    }
   ],
   "source": [
    "n=1.0\n",
    "type(n)"
   ]
  },
  {
   "cell_type": "code",
   "execution_count": 30,
   "id": "6127c1d7-2d00-4efc-9895-b2e58a541bca",
   "metadata": {},
   "outputs": [
    {
     "data": {
      "text/plain": [
       "int"
      ]
     },
     "execution_count": 30,
     "metadata": {},
     "output_type": "execute_result"
    }
   ],
   "source": [
    "n=10\n",
    "type(n)"
   ]
  },
  {
   "cell_type": "code",
   "execution_count": 32,
   "id": "c8e10020-f778-40b1-a3ce-a57448ebb769",
   "metadata": {},
   "outputs": [
    {
     "data": {
      "text/plain": [
       "(10.0, 100.0, 1000.0, 10000.0)"
      ]
     },
     "execution_count": 32,
     "metadata": {},
     "output_type": "execute_result"
    }
   ],
   "source": [
    "1e1,1e2,1e3,1e4\n",
    "# kep=k*10*p"
   ]
  },
  {
   "cell_type": "code",
   "execution_count": 34,
   "id": "11e8f005-e5d6-49c6-85e3-d9e058a55156",
   "metadata": {},
   "outputs": [
    {
     "data": {
      "text/plain": [
       "24000.0"
      ]
     },
     "execution_count": 34,
     "metadata": {},
     "output_type": "execute_result"
    }
   ],
   "source": [
    "24e3\n",
    "# 24^10^3"
   ]
  },
  {
   "cell_type": "code",
   "execution_count": 36,
   "id": "e66d94a3-031b-46dc-ac73-0fb545a69700",
   "metadata": {},
   "outputs": [
    {
     "data": {
      "text/plain": [
       "(10.0, 100.0, 1000.0)"
      ]
     },
     "execution_count": 36,
     "metadata": {},
     "output_type": "execute_result"
    }
   ],
   "source": [
    "1e+1,1e+2,1e+3"
   ]
  },
  {
   "cell_type": "code",
   "execution_count": 38,
   "id": "bf55a2dd-a8d1-4b09-b7a8-5055c660809d",
   "metadata": {},
   "outputs": [
    {
     "data": {
      "text/plain": [
       "0.024"
      ]
     },
     "execution_count": 38,
     "metadata": {},
     "output_type": "execute_result"
    }
   ],
   "source": [
    "24e-3 # 24/1000= 0.024"
   ]
  },
  {
   "cell_type": "markdown",
   "id": "96e29433-ff2e-460f-9cd6-732fd9f9dffc",
   "metadata": {},
   "source": [
    "- positive sign means multiply\n",
    "- negative sign means divide "
   ]
  },
  {
   "cell_type": "markdown",
   "id": "f26d6d3a-194a-4824-9474-d38fa07df634",
   "metadata": {},
   "source": [
    "**strings**"
   ]
  },
  {
   "cell_type": "markdown",
   "id": "84b5dd3a-a2b0-481f-b3ec-2dbfa63ef931",
   "metadata": {},
   "source": [
    "- strings are used to represnt the english characters generally\n",
    "\n",
    "- strings will represent in\n",
    "\n",
    "     - single quotes\n",
    "     \n",
    "     - double quotes\n",
    "     \n",
    "     - triple quotes"
   ]
  },
  {
   "cell_type": "code",
   "execution_count": 45,
   "id": "cc23e16d-2c77-4007-8609-e7e3656afa9e",
   "metadata": {},
   "outputs": [
    {
     "data": {
      "text/plain": [
       "str"
      ]
     },
     "execution_count": 45,
     "metadata": {},
     "output_type": "execute_result"
    }
   ],
   "source": [
    "name='Abhitha'\n",
    "type(name)"
   ]
  },
  {
   "cell_type": "code",
   "execution_count": 47,
   "id": "f70ec8f2-5b63-4f46-be16-60f96977f250",
   "metadata": {},
   "outputs": [
    {
     "data": {
      "text/plain": [
       "str"
      ]
     },
     "execution_count": 47,
     "metadata": {},
     "output_type": "execute_result"
    }
   ],
   "source": [
    "name1=\"Abhitha\"\n",
    "type(name1)"
   ]
  },
  {
   "cell_type": "code",
   "execution_count": 49,
   "id": "edb9ee8d-a692-4abe-91d3-0a341115bd60",
   "metadata": {},
   "outputs": [
    {
     "data": {
      "text/plain": [
       "str"
      ]
     },
     "execution_count": 49,
     "metadata": {},
     "output_type": "execute_result"
    }
   ],
   "source": [
    "name2=\"10\"\n",
    "type(name2)\n",
    "# strings are represent in red color\n",
    "# strings can be characters or names"
   ]
  },
  {
   "cell_type": "code",
   "execution_count": 51,
   "id": "5c07debc-9157-4d81-95e9-de025c7f1189",
   "metadata": {},
   "outputs": [
    {
     "data": {
      "text/plain": [
       "str"
      ]
     },
     "execution_count": 51,
     "metadata": {},
     "output_type": "execute_result"
    }
   ],
   "source": [
    "name3=\"abhitha123@gmail.com\"\n",
    "type(name2)"
   ]
  },
  {
   "cell_type": "markdown",
   "id": "02c0d080-842e-48f4-bad9-08d46cb96e9f",
   "metadata": {},
   "source": [
    "**RED COLOUR MEANS STRINGS**\n",
    "\n",
    "**GREEN COLOUR MEANS KEYWORDS**\n",
    "\n",
    "**BLACK COLOUR MEANS VARIABLES**\n"
   ]
  },
  {
   "cell_type": "markdown",
   "id": "bbc28e49-0751-4440-aa4d-62870bd11a1f",
   "metadata": {},
   "source": [
    "*python always in single quotes"
   ]
  },
  {
   "cell_type": "code",
   "execution_count": 55,
   "id": "6b84e639-e861-4986-b198-7f5afa00d8f7",
   "metadata": {},
   "outputs": [
    {
     "data": {
      "text/plain": [
       "'python'"
      ]
     },
     "execution_count": 55,
     "metadata": {},
     "output_type": "execute_result"
    }
   ],
   "source": [
    "n1='python'\n",
    "n2=\"python\"\n",
    "n1"
   ]
  },
  {
   "cell_type": "code",
   "execution_count": 57,
   "id": "91071871-9090-4fbc-a5ed-262f79639b1b",
   "metadata": {},
   "outputs": [
    {
     "data": {
      "text/plain": [
       "'python'"
      ]
     },
     "execution_count": 57,
     "metadata": {},
     "output_type": "execute_result"
    }
   ],
   "source": [
    "n2"
   ]
  },
  {
   "cell_type": "markdown",
   "id": "8dd024a1-916e-438c-a6e5-d3fb4fd36953",
   "metadata": {},
   "source": [
    "- output always in single quotes"
   ]
  },
  {
   "cell_type": "code",
   "execution_count": 60,
   "id": "a3c6cfcb-0835-4ca7-9be9-b414edb0c19f",
   "metadata": {},
   "outputs": [
    {
     "name": "stdout",
     "output_type": "stream",
     "text": [
      "Abhitha\n"
     ]
    }
   ],
   "source": [
    "print(name)"
   ]
  },
  {
   "cell_type": "markdown",
   "id": "0815974e-6a97-4a27-8f6e-3c169096fc3e",
   "metadata": {},
   "source": [
    "- whenever you print quotes will not visible"
   ]
  },
  {
   "cell_type": "code",
   "execution_count": 65,
   "id": "3fcd1a8c-4ad8-49b7-a21a-d1df144fba68",
   "metadata": {},
   "outputs": [
    {
     "name": "stdout",
     "output_type": "stream",
     "text": [
      "i like 'python'\n"
     ]
    }
   ],
   "source": [
    "name=\"i like 'python'\"\n",
    "print(name)"
   ]
  },
  {
   "cell_type": "code",
   "execution_count": 67,
   "id": "03e0bb98-aee3-4144-bc24-4d259eec8fdc",
   "metadata": {},
   "outputs": [
    {
     "name": "stdout",
     "output_type": "stream",
     "text": [
      "i like \"python\"\n"
     ]
    }
   ],
   "source": [
    "str='i like \"python\"'\n",
    "print(str)"
   ]
  },
  {
   "cell_type": "markdown",
   "id": "bdae9c8b-eafb-4739-acb0-941f254e1eb3",
   "metadata": {},
   "source": [
    "- entire string in double quotes the highlighted word in single quote viceversa"
   ]
  },
  {
   "cell_type": "markdown",
   "id": "e651df85-068a-4c2c-9d40-7598fc8a442e",
   "metadata": {},
   "source": [
    "**Triple quotes**\n",
    "- Triple quotes is not used for coding\n",
    "- Triple quotes is used to provide information to the user\n",
    "- In order to provide the information in jupyter notebook we will Markdown\n",
    "- In vscode or pycharm there is no markdown option\n",
    "- Thats why the world start used to write the information in triple quotes\n",
    "- This entire process is called **Doc String**"
   ]
  },
  {
   "cell_type": "code",
   "execution_count": 103,
   "id": "2fcbc185-a861-429e-a15b-a125fa18d221",
   "metadata": {},
   "outputs": [
    {
     "data": {
      "text/plain": [
       "'\\nhello\\nim writing python code\\nthis python\\n'"
      ]
     },
     "execution_count": 103,
     "metadata": {},
     "output_type": "execute_result"
    }
   ],
   "source": [
    "\"\"\"\n",
    "hello\n",
    "im writing python code\n",
    "this python\n",
    "\"\"\""
   ]
  },
  {
   "cell_type": "markdown",
   "id": "219046b9-4e70-4a9f-8823-0648cd619b81",
   "metadata": {},
   "source": [
    "**Boolean**"
   ]
  },
  {
   "cell_type": "code",
   "execution_count": 77,
   "id": "b8f7d811-176f-4ecc-ada0-c366d06d860c",
   "metadata": {},
   "outputs": [
    {
     "data": {
      "text/plain": [
       "bool"
      ]
     },
     "execution_count": 77,
     "metadata": {},
     "output_type": "execute_result"
    }
   ],
   "source": [
    "value=True\n",
    "type(value)"
   ]
  },
  {
   "cell_type": "code",
   "execution_count": 81,
   "id": "9b18a3cb-12aa-4417-a947-db62273205b9",
   "metadata": {},
   "outputs": [
    {
     "data": {
      "text/plain": [
       "bool"
      ]
     },
     "execution_count": 81,
     "metadata": {},
     "output_type": "execute_result"
    }
   ],
   "source": [
    "Value1=False\n",
    "type(Value1)"
   ]
  },
  {
   "cell_type": "code",
   "execution_count": 109,
   "id": "84992668-8c95-4458-9426-431ab0037b8e",
   "metadata": {},
   "outputs": [
    {
     "data": {
      "text/plain": [
       "bool"
      ]
     },
     "execution_count": 109,
     "metadata": {},
     "output_type": "execute_result"
    }
   ],
   "source": [
    "v=False\n",
    "type(v)"
   ]
  },
  {
   "cell_type": "code",
   "execution_count": null,
   "id": "bc1d3f24-4670-40cd-a4a8-4e5e389830ac",
   "metadata": {},
   "outputs": [],
   "source": [
    "true=\"True\"\n",
    "false=False\n",
    "\n",
    "# true and false are variables\n",
    "# type true is string\n",
    "# type false is boolean"
   ]
  }
 ],
 "metadata": {
  "kernelspec": {
   "display_name": "Python 3 (ipykernel)",
   "language": "python",
   "name": "python3"
  },
  "language_info": {
   "codemirror_mode": {
    "name": "ipython",
    "version": 3
   },
   "file_extension": ".py",
   "mimetype": "text/x-python",
   "name": "python",
   "nbconvert_exporter": "python",
   "pygments_lexer": "ipython3",
   "version": "3.11.7"
  }
 },
 "nbformat": 4,
 "nbformat_minor": 5
}
